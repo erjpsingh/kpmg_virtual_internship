{
 "cells": [
  {
   "cell_type": "markdown",
   "metadata": {},
   "source": [
    "## getting insights | bi variate analysis :) "
   ]
  },
  {
   "cell_type": "code",
   "execution_count": 1,
   "metadata": {},
   "outputs": [],
   "source": [
    "import numpy as np\n",
    "import pandas as pd\n",
    "import matplotlib.pyplot as plt\n",
    "import seaborn as sns\n",
    "from datetime import datetime\n",
    "from datetime import date"
   ]
  },
  {
   "cell_type": "code",
   "execution_count": 157,
   "metadata": {},
   "outputs": [],
   "source": [
    "pd.set_option('display.max_columns',999)\n",
    "pd.set_option('display.max_rows',999)"
   ]
  },
  {
   "cell_type": "code",
   "execution_count": 3,
   "metadata": {},
   "outputs": [],
   "source": [
    "df = pd.read_csv('/home/jasp/sem_3/kpmg/merged_data.csv')"
   ]
  },
  {
   "cell_type": "code",
   "execution_count": 28,
   "metadata": {},
   "outputs": [
    {
     "data": {
      "text/plain": [
       "transaction_id                                  int64\n",
       "product_id                                      int64\n",
       "customer_id                                     int64\n",
       "transaction_date                       datetime64[ns]\n",
       "online_order                                  float64\n",
       "order_status                                   object\n",
       "brand                                          object\n",
       "product_line                                   object\n",
       "product_class                                  object\n",
       "product_size                                   object\n",
       "list_price                                    float64\n",
       "standard_cost                                 float64\n",
       "product_first_sold_date                        object\n",
       "first_name                                     object\n",
       "last_name                                      object\n",
       "gender                                         object\n",
       "past_3_years_bike_related_purchases             int64\n",
       "DOB                                            object\n",
       "job_title                                      object\n",
       "job_industry_category                          object\n",
       "wealth_segment                                 object\n",
       "deceased_indicator                             object\n",
       "owns_car                                       object\n",
       "tenure                                        float64\n",
       "age                                             int64\n",
       "address                                        object\n",
       "postcode                                        int64\n",
       "state                                          object\n",
       "country                                        object\n",
       "property_valuation                              int64\n",
       "dtype: object"
      ]
     },
     "execution_count": 28,
     "metadata": {},
     "output_type": "execute_result"
    }
   ],
   "source": [
    "df.dtypes"
   ]
  },
  {
   "cell_type": "code",
   "execution_count": 27,
   "metadata": {},
   "outputs": [],
   "source": [
    "df.drop('Unnamed: 0', axis=1, inplace=True)"
   ]
  },
  {
   "cell_type": "code",
   "execution_count": 5,
   "metadata": {},
   "outputs": [],
   "source": [
    "df['transaction_date']= pd.to_datetime(df['transaction_date']) "
   ]
  },
  {
   "cell_type": "code",
   "execution_count": 6,
   "metadata": {},
   "outputs": [
    {
     "data": {
      "text/html": [
       "<div>\n",
       "<style scoped>\n",
       "    .dataframe tbody tr th:only-of-type {\n",
       "        vertical-align: middle;\n",
       "    }\n",
       "\n",
       "    .dataframe tbody tr th {\n",
       "        vertical-align: top;\n",
       "    }\n",
       "\n",
       "    .dataframe thead th {\n",
       "        text-align: right;\n",
       "    }\n",
       "</style>\n",
       "<table border=\"1\" class=\"dataframe\">\n",
       "  <thead>\n",
       "    <tr style=\"text-align: right;\">\n",
       "      <th></th>\n",
       "      <th>Unnamed: 0</th>\n",
       "      <th>transaction_id</th>\n",
       "      <th>product_id</th>\n",
       "      <th>customer_id</th>\n",
       "      <th>transaction_date</th>\n",
       "      <th>online_order</th>\n",
       "      <th>order_status</th>\n",
       "      <th>brand</th>\n",
       "      <th>product_line</th>\n",
       "      <th>product_class</th>\n",
       "      <th>product_size</th>\n",
       "      <th>list_price</th>\n",
       "      <th>standard_cost</th>\n",
       "      <th>product_first_sold_date</th>\n",
       "      <th>first_name</th>\n",
       "      <th>last_name</th>\n",
       "      <th>gender</th>\n",
       "      <th>past_3_years_bike_related_purchases</th>\n",
       "      <th>DOB</th>\n",
       "      <th>job_title</th>\n",
       "      <th>job_industry_category</th>\n",
       "      <th>wealth_segment</th>\n",
       "      <th>deceased_indicator</th>\n",
       "      <th>owns_car</th>\n",
       "      <th>tenure</th>\n",
       "      <th>age</th>\n",
       "      <th>address</th>\n",
       "      <th>postcode</th>\n",
       "      <th>state</th>\n",
       "      <th>country</th>\n",
       "      <th>property_valuation</th>\n",
       "    </tr>\n",
       "  </thead>\n",
       "  <tbody>\n",
       "    <tr>\n",
       "      <th>0</th>\n",
       "      <td>0</td>\n",
       "      <td>1</td>\n",
       "      <td>2</td>\n",
       "      <td>2950</td>\n",
       "      <td>2017-02-25</td>\n",
       "      <td>0.0</td>\n",
       "      <td>Approved</td>\n",
       "      <td>Solex</td>\n",
       "      <td>Standard</td>\n",
       "      <td>medium</td>\n",
       "      <td>medium</td>\n",
       "      <td>71.49</td>\n",
       "      <td>53.62</td>\n",
       "      <td>0113-12-04 00:00:00</td>\n",
       "      <td>Kristos</td>\n",
       "      <td>Anthony</td>\n",
       "      <td>Male</td>\n",
       "      <td>19</td>\n",
       "      <td>1955-01-11</td>\n",
       "      <td>Software Engineer I</td>\n",
       "      <td>Financial Services</td>\n",
       "      <td>Mass Customer</td>\n",
       "      <td>N</td>\n",
       "      <td>Yes</td>\n",
       "      <td>10.0</td>\n",
       "      <td>65</td>\n",
       "      <td>984 Hoepker Court</td>\n",
       "      <td>3064</td>\n",
       "      <td>VIC</td>\n",
       "      <td>Australia</td>\n",
       "      <td>6</td>\n",
       "    </tr>\n",
       "    <tr>\n",
       "      <th>1</th>\n",
       "      <td>1</td>\n",
       "      <td>11065</td>\n",
       "      <td>1</td>\n",
       "      <td>2950</td>\n",
       "      <td>2017-10-16</td>\n",
       "      <td>0.0</td>\n",
       "      <td>Approved</td>\n",
       "      <td>Giant Bicycles</td>\n",
       "      <td>Standard</td>\n",
       "      <td>medium</td>\n",
       "      <td>medium</td>\n",
       "      <td>1403.50</td>\n",
       "      <td>954.82</td>\n",
       "      <td>0104-02-09 00:00:00</td>\n",
       "      <td>Kristos</td>\n",
       "      <td>Anthony</td>\n",
       "      <td>Male</td>\n",
       "      <td>19</td>\n",
       "      <td>1955-01-11</td>\n",
       "      <td>Software Engineer I</td>\n",
       "      <td>Financial Services</td>\n",
       "      <td>Mass Customer</td>\n",
       "      <td>N</td>\n",
       "      <td>Yes</td>\n",
       "      <td>10.0</td>\n",
       "      <td>65</td>\n",
       "      <td>984 Hoepker Court</td>\n",
       "      <td>3064</td>\n",
       "      <td>VIC</td>\n",
       "      <td>Australia</td>\n",
       "      <td>6</td>\n",
       "    </tr>\n",
       "    <tr>\n",
       "      <th>2</th>\n",
       "      <td>2</td>\n",
       "      <td>18923</td>\n",
       "      <td>62</td>\n",
       "      <td>2950</td>\n",
       "      <td>2017-04-26</td>\n",
       "      <td>0.0</td>\n",
       "      <td>Approved</td>\n",
       "      <td>Solex</td>\n",
       "      <td>Standard</td>\n",
       "      <td>medium</td>\n",
       "      <td>medium</td>\n",
       "      <td>478.16</td>\n",
       "      <td>298.72</td>\n",
       "      <td>0111-11-07 00:00:00</td>\n",
       "      <td>Kristos</td>\n",
       "      <td>Anthony</td>\n",
       "      <td>Male</td>\n",
       "      <td>19</td>\n",
       "      <td>1955-01-11</td>\n",
       "      <td>Software Engineer I</td>\n",
       "      <td>Financial Services</td>\n",
       "      <td>Mass Customer</td>\n",
       "      <td>N</td>\n",
       "      <td>Yes</td>\n",
       "      <td>10.0</td>\n",
       "      <td>65</td>\n",
       "      <td>984 Hoepker Court</td>\n",
       "      <td>3064</td>\n",
       "      <td>VIC</td>\n",
       "      <td>Australia</td>\n",
       "      <td>6</td>\n",
       "    </tr>\n",
       "    <tr>\n",
       "      <th>3</th>\n",
       "      <td>3</td>\n",
       "      <td>2</td>\n",
       "      <td>3</td>\n",
       "      <td>3120</td>\n",
       "      <td>2017-05-21</td>\n",
       "      <td>1.0</td>\n",
       "      <td>Approved</td>\n",
       "      <td>Trek Bicycles</td>\n",
       "      <td>Standard</td>\n",
       "      <td>medium</td>\n",
       "      <td>large</td>\n",
       "      <td>2091.47</td>\n",
       "      <td>388.92</td>\n",
       "      <td>0115-03-05 00:00:00</td>\n",
       "      <td>Lauree</td>\n",
       "      <td>O'Donnell</td>\n",
       "      <td>Female</td>\n",
       "      <td>89</td>\n",
       "      <td>1979-02-04</td>\n",
       "      <td>Clinical Specialist</td>\n",
       "      <td>Health</td>\n",
       "      <td>Mass Customer</td>\n",
       "      <td>N</td>\n",
       "      <td>Yes</td>\n",
       "      <td>10.0</td>\n",
       "      <td>41</td>\n",
       "      <td>4 Shopko Circle</td>\n",
       "      <td>2196</td>\n",
       "      <td>NSW</td>\n",
       "      <td>Australia</td>\n",
       "      <td>5</td>\n",
       "    </tr>\n",
       "    <tr>\n",
       "      <th>4</th>\n",
       "      <td>4</td>\n",
       "      <td>6862</td>\n",
       "      <td>4</td>\n",
       "      <td>3120</td>\n",
       "      <td>2017-10-05</td>\n",
       "      <td>0.0</td>\n",
       "      <td>Approved</td>\n",
       "      <td>Giant Bicycles</td>\n",
       "      <td>Standard</td>\n",
       "      <td>high</td>\n",
       "      <td>medium</td>\n",
       "      <td>1129.13</td>\n",
       "      <td>677.48</td>\n",
       "      <td>0112-04-17 00:00:00</td>\n",
       "      <td>Lauree</td>\n",
       "      <td>O'Donnell</td>\n",
       "      <td>Female</td>\n",
       "      <td>89</td>\n",
       "      <td>1979-02-04</td>\n",
       "      <td>Clinical Specialist</td>\n",
       "      <td>Health</td>\n",
       "      <td>Mass Customer</td>\n",
       "      <td>N</td>\n",
       "      <td>Yes</td>\n",
       "      <td>10.0</td>\n",
       "      <td>41</td>\n",
       "      <td>4 Shopko Circle</td>\n",
       "      <td>2196</td>\n",
       "      <td>NSW</td>\n",
       "      <td>Australia</td>\n",
       "      <td>5</td>\n",
       "    </tr>\n",
       "  </tbody>\n",
       "</table>\n",
       "</div>"
      ],
      "text/plain": [
       "   Unnamed: 0  transaction_id  product_id  customer_id transaction_date  \\\n",
       "0           0               1           2         2950       2017-02-25   \n",
       "1           1           11065           1         2950       2017-10-16   \n",
       "2           2           18923          62         2950       2017-04-26   \n",
       "3           3               2           3         3120       2017-05-21   \n",
       "4           4            6862           4         3120       2017-10-05   \n",
       "\n",
       "   online_order order_status           brand product_line product_class  \\\n",
       "0           0.0     Approved           Solex     Standard        medium   \n",
       "1           0.0     Approved  Giant Bicycles     Standard        medium   \n",
       "2           0.0     Approved           Solex     Standard        medium   \n",
       "3           1.0     Approved   Trek Bicycles     Standard        medium   \n",
       "4           0.0     Approved  Giant Bicycles     Standard          high   \n",
       "\n",
       "  product_size  list_price  standard_cost product_first_sold_date first_name  \\\n",
       "0       medium       71.49          53.62     0113-12-04 00:00:00    Kristos   \n",
       "1       medium     1403.50         954.82     0104-02-09 00:00:00    Kristos   \n",
       "2       medium      478.16         298.72     0111-11-07 00:00:00    Kristos   \n",
       "3        large     2091.47         388.92     0115-03-05 00:00:00     Lauree   \n",
       "4       medium     1129.13         677.48     0112-04-17 00:00:00     Lauree   \n",
       "\n",
       "   last_name  gender  past_3_years_bike_related_purchases         DOB  \\\n",
       "0    Anthony    Male                                   19  1955-01-11   \n",
       "1    Anthony    Male                                   19  1955-01-11   \n",
       "2    Anthony    Male                                   19  1955-01-11   \n",
       "3  O'Donnell  Female                                   89  1979-02-04   \n",
       "4  O'Donnell  Female                                   89  1979-02-04   \n",
       "\n",
       "             job_title job_industry_category wealth_segment  \\\n",
       "0  Software Engineer I    Financial Services  Mass Customer   \n",
       "1  Software Engineer I    Financial Services  Mass Customer   \n",
       "2  Software Engineer I    Financial Services  Mass Customer   \n",
       "3  Clinical Specialist                Health  Mass Customer   \n",
       "4  Clinical Specialist                Health  Mass Customer   \n",
       "\n",
       "  deceased_indicator owns_car  tenure  age            address  postcode state  \\\n",
       "0                  N      Yes    10.0   65  984 Hoepker Court      3064   VIC   \n",
       "1                  N      Yes    10.0   65  984 Hoepker Court      3064   VIC   \n",
       "2                  N      Yes    10.0   65  984 Hoepker Court      3064   VIC   \n",
       "3                  N      Yes    10.0   41    4 Shopko Circle      2196   NSW   \n",
       "4                  N      Yes    10.0   41    4 Shopko Circle      2196   NSW   \n",
       "\n",
       "     country  property_valuation  \n",
       "0  Australia                   6  \n",
       "1  Australia                   6  \n",
       "2  Australia                   6  \n",
       "3  Australia                   5  \n",
       "4  Australia                   5  "
      ]
     },
     "execution_count": 6,
     "metadata": {},
     "output_type": "execute_result"
    }
   ],
   "source": [
    "df.head()"
   ]
  },
  {
   "cell_type": "code",
   "execution_count": 7,
   "metadata": {},
   "outputs": [
    {
     "data": {
      "text/plain": [
       "Unnamed: 0                                      int64\n",
       "transaction_id                                  int64\n",
       "product_id                                      int64\n",
       "customer_id                                     int64\n",
       "transaction_date                       datetime64[ns]\n",
       "online_order                                  float64\n",
       "order_status                                   object\n",
       "brand                                          object\n",
       "product_line                                   object\n",
       "product_class                                  object\n",
       "product_size                                   object\n",
       "list_price                                    float64\n",
       "standard_cost                                 float64\n",
       "product_first_sold_date                        object\n",
       "first_name                                     object\n",
       "last_name                                      object\n",
       "gender                                         object\n",
       "past_3_years_bike_related_purchases             int64\n",
       "DOB                                            object\n",
       "job_title                                      object\n",
       "job_industry_category                          object\n",
       "wealth_segment                                 object\n",
       "deceased_indicator                             object\n",
       "owns_car                                       object\n",
       "tenure                                        float64\n",
       "age                                             int64\n",
       "address                                        object\n",
       "postcode                                        int64\n",
       "state                                          object\n",
       "country                                        object\n",
       "property_valuation                              int64\n",
       "dtype: object"
      ]
     },
     "execution_count": 7,
     "metadata": {},
     "output_type": "execute_result"
    }
   ],
   "source": [
    "df.dtypes"
   ]
  },
  {
   "cell_type": "code",
   "execution_count": 8,
   "metadata": {
    "scrolled": true
   },
   "outputs": [
    {
     "data": {
      "text/plain": [
       "42    830\n",
       "43    633\n",
       "41    560\n",
       "46    530\n",
       "45    455\n",
       "39    391\n",
       "44    372\n",
       "40    371\n",
       "34    327\n",
       "33    311\n",
       "30    303\n",
       "25    299\n",
       "55    285\n",
       "61    266\n",
       "32    263\n",
       "22    259\n",
       "52    257\n",
       "24    257\n",
       "47    254\n",
       "51    250\n",
       "27    246\n",
       "35    245\n",
       "50    243\n",
       "53    242\n",
       "21    240\n",
       "60    238\n",
       "56    231\n",
       "31    224\n",
       "57    221\n",
       "48    215\n",
       "26    207\n",
       "58    200\n",
       "66    199\n",
       "62    198\n",
       "63    196\n",
       "23    192\n",
       "54    189\n",
       "20    185\n",
       "59    175\n",
       "64    173\n",
       "38    166\n",
       "49    165\n",
       "28    165\n",
       "37    164\n",
       "29    153\n",
       "65    148\n",
       "19    103\n",
       "36     77\n",
       "18     70\n",
       "Name: age, dtype: int64"
      ]
     },
     "execution_count": 8,
     "metadata": {},
     "output_type": "execute_result"
    }
   ],
   "source": [
    "df.age.value_counts()"
   ]
  },
  {
   "cell_type": "code",
   "execution_count": 9,
   "metadata": {},
   "outputs": [
    {
     "data": {
      "text/plain": [
       "Text(0, 0.5, 'Count Of Purchases')"
      ]
     },
     "execution_count": 9,
     "metadata": {},
     "output_type": "execute_result"
    },
    {
     "data": {
      "image/png": "[encoded data removed]",
      "text/plain": [
       "<Figure size 1440x720 with 1 Axes>"
      ]
     },
     "metadata": {},
     "output_type": "display_data"
    }
   ],
   "source": [
    "sns.set_style(\"whitegrid\")\n",
    "plt.figure(figsize=(20,10))\n",
    "sns.lineplot(x=df.age.value_counts().index, y=df.age.value_counts().values, data=df)\n",
    "plt.xlabel(\"Age\",fontsize = 20)\n",
    "plt.ylabel(\"Count Of Purchases\", fontsize=20)"
   ]
  },
  {
   "cell_type": "code",
   "execution_count": 10,
   "metadata": {},
   "outputs": [
    {
     "data": {
      "text/plain": [
       "0        25\n",
       "1        16\n",
       "2        26\n",
       "3        21\n",
       "4         5\n",
       "         ..\n",
       "12938    20\n",
       "12939    21\n",
       "12940    11\n",
       "12941     3\n",
       "12942    30\n",
       "Name: transaction_date, Length: 12943, dtype: int64"
      ]
     },
     "execution_count": 10,
     "metadata": {},
     "output_type": "execute_result"
    }
   ],
   "source": [
    "df.transaction_date.dt.day"
   ]
  },
  {
   "cell_type": "code",
   "execution_count": 11,
   "metadata": {},
   "outputs": [
    {
     "data": {
      "text/plain": [
       "<matplotlib.axes._subplots.AxesSubplot at 0x7f8a1ee8a390>"
      ]
     },
     "execution_count": 11,
     "metadata": {},
     "output_type": "execute_result"
    },
    {
     "data": {
      "image/png": "[encoded data removed]",
      "text/plain": [
       "<Figure size 1440x720 with 1 Axes>"
      ]
     },
     "metadata": {},
     "output_type": "display_data"
    }
   ],
   "source": [
    "sns.set_style(\"whitegrid\")\n",
    "plt.figure(figsize=(20,10))\n",
    "sns.lineplot(x=df.transaction_date.dt.day.value_counts().index,\n",
    "             y=df.transaction_date.dt.day.value_counts().values,\n",
    "             data=df)"
   ]
  },
  {
   "cell_type": "code",
   "execution_count": 12,
   "metadata": {},
   "outputs": [
    {
     "data": {
      "text/plain": [
       "<matplotlib.axes._subplots.AxesSubplot at 0x7f8a1e3ca1d0>"
      ]
     },
     "execution_count": 12,
     "metadata": {},
     "output_type": "execute_result"
    },
    {
     "data": {
      "image/png": "[encoded data removed]",
      "text/plain": [
       "<Figure size 1440x720 with 1 Axes>"
      ]
     },
     "metadata": {},
     "output_type": "display_data"
    }
   ],
   "source": [
    "sns.set_style(\"whitegrid\")\n",
    "plt.figure(figsize=(20,10))\n",
    "sns.boxplot(x=\"online_order\", y=\"age\", palette=[\"m\", \"g\"],data=df)"
   ]
  },
  {
   "cell_type": "code",
   "execution_count": 13,
   "metadata": {},
   "outputs": [
    {
     "data": {
      "text/plain": [
       "<matplotlib.axes._subplots.AxesSubplot at 0x7f8a1e7c4550>"
      ]
     },
     "execution_count": 13,
     "metadata": {},
     "output_type": "execute_result"
    },
    {
     "data": {
      "image/png": "[encoded data removed]",
      "text/plain": [
       "<Figure size 1440x720 with 1 Axes>"
      ]
     },
     "metadata": {},
     "output_type": "display_data"
    }
   ],
   "source": [
    "sns.set_style(\"whitegrid\")\n",
    "plt.figure(figsize=(20,10))\n",
    "sns.boxplot(x=\"order_status\", y=\"age\", palette=[\"m\", \"g\"],data=df)"
   ]
  },
  {
   "cell_type": "code",
   "execution_count": 14,
   "metadata": {},
   "outputs": [
    {
     "data": {
      "text/plain": [
       "<matplotlib.axes._subplots.AxesSubplot at 0x7f8a1e70ee50>"
      ]
     },
     "execution_count": 14,
     "metadata": {},
     "output_type": "execute_result"
    },
    {
     "data": {
      "image/png": "[encoded data removed]",
      "text/plain": [
       "<Figure size 1440x720 with 1 Axes>"
      ]
     },
     "metadata": {},
     "output_type": "display_data"
    }
   ],
   "source": [
    "sns.set_style(\"whitegrid\")\n",
    "plt.figure(figsize=(20,10))\n",
    "sns.boxplot(x=\"brand\", y=\"age\", palette=[\"m\", \"g\"],data=df)"
   ]
  },
  {
   "cell_type": "code",
   "execution_count": 15,
   "metadata": {},
   "outputs": [
    {
     "data": {
      "text/plain": [
       "<matplotlib.axes._subplots.AxesSubplot at 0x7f8a1e6b2c10>"
      ]
     },
     "execution_count": 15,
     "metadata": {},
     "output_type": "execute_result"
    },
    {
     "data": {
      "image/png": "[encoded data removed]",
      "text/plain": [
       "<Figure size 1440x720 with 1 Axes>"
      ]
     },
     "metadata": {},
     "output_type": "display_data"
    }
   ],
   "source": [
    "sns.set_style(\"whitegrid\")\n",
    "plt.figure(figsize=(20,10))\n",
    "sns.boxplot(x=\"product_line\", y=\"age\", palette=[\"m\", \"g\"],data=df)"
   ]
  },
  {
   "cell_type": "code",
   "execution_count": 16,
   "metadata": {},
   "outputs": [
    {
     "data": {
      "text/plain": [
       "<matplotlib.axes._subplots.AxesSubplot at 0x7f8a1e5f6490>"
      ]
     },
     "execution_count": 16,
     "metadata": {},
     "output_type": "execute_result"
    },
    {
     "data": {
      "image/png": "[encoded data removed]",
      "text/plain": [
       "<Figure size 1440x720 with 1 Axes>"
      ]
     },
     "metadata": {},
     "output_type": "display_data"
    }
   ],
   "source": [
    "sns.set_style(\"whitegrid\")\n",
    "plt.figure(figsize=(20,10))\n",
    "sns.boxplot(x=\"product_size\", y=\"age\", palette=[\"m\", \"g\"],data=df)"
   ]
  },
  {
   "cell_type": "code",
   "execution_count": 17,
   "metadata": {},
   "outputs": [
    {
     "data": {
      "text/plain": [
       "<matplotlib.axes._subplots.AxesSubplot at 0x7f8a1e530510>"
      ]
     },
     "execution_count": 17,
     "metadata": {},
     "output_type": "execute_result"
    },
    {
     "data": {
      "image/png": "[encoded data removed]",
      "text/plain": [
       "<Figure size 1440x720 with 1 Axes>"
      ]
     },
     "metadata": {},
     "output_type": "display_data"
    }
   ],
   "source": [
    "sns.set_style(\"whitegrid\")\n",
    "plt.figure(figsize=(20,10))\n",
    "sns.boxplot(x=\"product_class\", y=\"age\", palette=[\"m\", \"g\"],data=df)"
   ]
  },
  {
   "cell_type": "code",
   "execution_count": 18,
   "metadata": {},
   "outputs": [
    {
     "data": {
      "text/plain": [
       "<matplotlib.axes._subplots.AxesSubplot at 0x7f8a1e548790>"
      ]
     },
     "execution_count": 18,
     "metadata": {},
     "output_type": "execute_result"
    },
    {
     "data": {
      "image/png": "[encoded data removed]",
      "text/plain": [
       "<Figure size 1440x720 with 1 Axes>"
      ]
     },
     "metadata": {},
     "output_type": "display_data"
    }
   ],
   "source": [
    "sns.set_style(\"whitegrid\")\n",
    "plt.figure(figsize=(20,10))\n",
    "sns.boxplot(x=\"gender\", y=\"age\", palette=[\"m\", \"g\"],data=df)"
   ]
  },
  {
   "cell_type": "code",
   "execution_count": 19,
   "metadata": {},
   "outputs": [
    {
     "data": {
      "text/plain": [
       "Text(0, 0.5, 'Age')"
      ]
     },
     "execution_count": 19,
     "metadata": {},
     "output_type": "execute_result"
    },
    {
     "data": {
      "image/png": "[encoded data removed]",
      "text/plain": [
       "<Figure size 1440x720 with 1 Axes>"
      ]
     },
     "metadata": {},
     "output_type": "display_data"
    }
   ],
   "source": [
    "sns.set_style(\"whitegrid\")\n",
    "plt.figure(figsize=(20,10))\n",
    "sns.boxplot(x=\"job_industry_category\", y=\"age\", palette=[\"m\", \"g\"],data=df)\n",
    "plt.xlabel(\"job Industry\",fontsize = 20)\n",
    "plt.ylabel(\"Age\",fontsize=20)"
   ]
  },
  {
   "cell_type": "code",
   "execution_count": 20,
   "metadata": {},
   "outputs": [
    {
     "data": {
      "text/plain": [
       "Text(0, 0.5, 'Age')"
      ]
     },
     "execution_count": 20,
     "metadata": {},
     "output_type": "execute_result"
    },
    {
     "data": {
      "image/png": "[encoded data removed]",
      "text/plain": [
       "<Figure size 1440x720 with 1 Axes>"
      ]
     },
     "metadata": {},
     "output_type": "display_data"
    }
   ],
   "source": [
    "sns.set_style(\"whitegrid\")\n",
    "plt.figure(figsize=(20,10))\n",
    "sns.boxplot(x=\"wealth_segment\", y=\"age\", palette=[\"m\", \"g\"],data=df)\n",
    "plt.xlabel(\"wealth_segment\",fontsize = 20)\n",
    "plt.ylabel(\"Age\",fontsize=20)"
   ]
  },
  {
   "cell_type": "code",
   "execution_count": 21,
   "metadata": {},
   "outputs": [
    {
     "data": {
      "text/plain": [
       "Text(0, 0.5, 'Age')"
      ]
     },
     "execution_count": 21,
     "metadata": {},
     "output_type": "execute_result"
    },
    {
     "data": {
      "image/png": "[encoded data removed]",
      "text/plain": [
       "<Figure size 1440x720 with 1 Axes>"
      ]
     },
     "metadata": {},
     "output_type": "display_data"
    }
   ],
   "source": [
    "sns.set_style(\"whitegrid\")\n",
    "plt.figure(figsize=(20,10))\n",
    "sns.boxplot(x=\"owns_car\", y=\"age\", palette=[\"m\", \"g\"],data=df)\n",
    "plt.xlabel(\"Owns Car\",fontsize = 20)\n",
    "plt.ylabel(\"Age\",fontsize=20)"
   ]
  },
  {
   "cell_type": "code",
   "execution_count": 22,
   "metadata": {},
   "outputs": [
    {
     "data": {
      "text/plain": [
       "Text(0, 0.5, 'Age')"
      ]
     },
     "execution_count": 22,
     "metadata": {},
     "output_type": "execute_result"
    },
    {
     "data": {
      "image/png": "[encoded data removed]",
      "text/plain": [
       "<Figure size 1440x720 with 1 Axes>"
      ]
     },
     "metadata": {},
     "output_type": "display_data"
    }
   ],
   "source": [
    "sns.set_style(\"whitegrid\")\n",
    "plt.figure(figsize=(20,10))\n",
    "sns.boxplot(x=\"state\", y=\"age\", palette=[\"m\", \"g\"],data=df)\n",
    "plt.xlabel(\"Owns Car\",fontsize = 20)\n",
    "plt.ylabel(\"Age\",fontsize=20)"
   ]
  },
  {
   "cell_type": "code",
   "execution_count": 23,
   "metadata": {},
   "outputs": [
    {
     "data": {
      "text/plain": [
       "Mass Customer        6377\n",
       "High Net Worth       3310\n",
       "Affluent Customer    3256\n",
       "Name: wealth_segment, dtype: int64"
      ]
     },
     "execution_count": 23,
     "metadata": {},
     "output_type": "execute_result"
    }
   ],
   "source": [
    "df.wealth_segment.value_counts()"
   ]
  },
  {
   "cell_type": "code",
   "execution_count": 29,
   "metadata": {},
   "outputs": [
    {
     "data": {
      "text/html": [
       "<div>\n",
       "<style scoped>\n",
       "    .dataframe tbody tr th:only-of-type {\n",
       "        vertical-align: middle;\n",
       "    }\n",
       "\n",
       "    .dataframe tbody tr th {\n",
       "        vertical-align: top;\n",
       "    }\n",
       "\n",
       "    .dataframe thead th {\n",
       "        text-align: right;\n",
       "    }\n",
       "</style>\n",
       "<table border=\"1\" class=\"dataframe\">\n",
       "  <thead>\n",
       "    <tr style=\"text-align: right;\">\n",
       "      <th></th>\n",
       "      <th>transaction_id</th>\n",
       "      <th>product_id</th>\n",
       "      <th>customer_id</th>\n",
       "      <th>transaction_date</th>\n",
       "      <th>online_order</th>\n",
       "      <th>order_status</th>\n",
       "      <th>brand</th>\n",
       "      <th>product_line</th>\n",
       "      <th>product_class</th>\n",
       "      <th>product_size</th>\n",
       "      <th>list_price</th>\n",
       "      <th>standard_cost</th>\n",
       "      <th>product_first_sold_date</th>\n",
       "      <th>first_name</th>\n",
       "      <th>last_name</th>\n",
       "      <th>gender</th>\n",
       "      <th>past_3_years_bike_related_purchases</th>\n",
       "      <th>DOB</th>\n",
       "      <th>job_title</th>\n",
       "      <th>job_industry_category</th>\n",
       "      <th>wealth_segment</th>\n",
       "      <th>deceased_indicator</th>\n",
       "      <th>owns_car</th>\n",
       "      <th>tenure</th>\n",
       "      <th>age</th>\n",
       "      <th>address</th>\n",
       "      <th>postcode</th>\n",
       "      <th>state</th>\n",
       "      <th>country</th>\n",
       "      <th>property_valuation</th>\n",
       "    </tr>\n",
       "  </thead>\n",
       "  <tbody>\n",
       "    <tr>\n",
       "      <th>0</th>\n",
       "      <td>1</td>\n",
       "      <td>2</td>\n",
       "      <td>2950</td>\n",
       "      <td>2017-02-25</td>\n",
       "      <td>0.0</td>\n",
       "      <td>Approved</td>\n",
       "      <td>Solex</td>\n",
       "      <td>Standard</td>\n",
       "      <td>medium</td>\n",
       "      <td>medium</td>\n",
       "      <td>71.49</td>\n",
       "      <td>53.62</td>\n",
       "      <td>0113-12-04 00:00:00</td>\n",
       "      <td>Kristos</td>\n",
       "      <td>Anthony</td>\n",
       "      <td>Male</td>\n",
       "      <td>19</td>\n",
       "      <td>1955-01-11</td>\n",
       "      <td>Software Engineer I</td>\n",
       "      <td>Financial Services</td>\n",
       "      <td>Mass Customer</td>\n",
       "      <td>N</td>\n",
       "      <td>Yes</td>\n",
       "      <td>10.0</td>\n",
       "      <td>65</td>\n",
       "      <td>984 Hoepker Court</td>\n",
       "      <td>3064</td>\n",
       "      <td>VIC</td>\n",
       "      <td>Australia</td>\n",
       "      <td>6</td>\n",
       "    </tr>\n",
       "    <tr>\n",
       "      <th>1</th>\n",
       "      <td>11065</td>\n",
       "      <td>1</td>\n",
       "      <td>2950</td>\n",
       "      <td>2017-10-16</td>\n",
       "      <td>0.0</td>\n",
       "      <td>Approved</td>\n",
       "      <td>Giant Bicycles</td>\n",
       "      <td>Standard</td>\n",
       "      <td>medium</td>\n",
       "      <td>medium</td>\n",
       "      <td>1403.50</td>\n",
       "      <td>954.82</td>\n",
       "      <td>0104-02-09 00:00:00</td>\n",
       "      <td>Kristos</td>\n",
       "      <td>Anthony</td>\n",
       "      <td>Male</td>\n",
       "      <td>19</td>\n",
       "      <td>1955-01-11</td>\n",
       "      <td>Software Engineer I</td>\n",
       "      <td>Financial Services</td>\n",
       "      <td>Mass Customer</td>\n",
       "      <td>N</td>\n",
       "      <td>Yes</td>\n",
       "      <td>10.0</td>\n",
       "      <td>65</td>\n",
       "      <td>984 Hoepker Court</td>\n",
       "      <td>3064</td>\n",
       "      <td>VIC</td>\n",
       "      <td>Australia</td>\n",
       "      <td>6</td>\n",
       "    </tr>\n",
       "    <tr>\n",
       "      <th>2</th>\n",
       "      <td>18923</td>\n",
       "      <td>62</td>\n",
       "      <td>2950</td>\n",
       "      <td>2017-04-26</td>\n",
       "      <td>0.0</td>\n",
       "      <td>Approved</td>\n",
       "      <td>Solex</td>\n",
       "      <td>Standard</td>\n",
       "      <td>medium</td>\n",
       "      <td>medium</td>\n",
       "      <td>478.16</td>\n",
       "      <td>298.72</td>\n",
       "      <td>0111-11-07 00:00:00</td>\n",
       "      <td>Kristos</td>\n",
       "      <td>Anthony</td>\n",
       "      <td>Male</td>\n",
       "      <td>19</td>\n",
       "      <td>1955-01-11</td>\n",
       "      <td>Software Engineer I</td>\n",
       "      <td>Financial Services</td>\n",
       "      <td>Mass Customer</td>\n",
       "      <td>N</td>\n",
       "      <td>Yes</td>\n",
       "      <td>10.0</td>\n",
       "      <td>65</td>\n",
       "      <td>984 Hoepker Court</td>\n",
       "      <td>3064</td>\n",
       "      <td>VIC</td>\n",
       "      <td>Australia</td>\n",
       "      <td>6</td>\n",
       "    </tr>\n",
       "    <tr>\n",
       "      <th>3</th>\n",
       "      <td>2</td>\n",
       "      <td>3</td>\n",
       "      <td>3120</td>\n",
       "      <td>2017-05-21</td>\n",
       "      <td>1.0</td>\n",
       "      <td>Approved</td>\n",
       "      <td>Trek Bicycles</td>\n",
       "      <td>Standard</td>\n",
       "      <td>medium</td>\n",
       "      <td>large</td>\n",
       "      <td>2091.47</td>\n",
       "      <td>388.92</td>\n",
       "      <td>0115-03-05 00:00:00</td>\n",
       "      <td>Lauree</td>\n",
       "      <td>O'Donnell</td>\n",
       "      <td>Female</td>\n",
       "      <td>89</td>\n",
       "      <td>1979-02-04</td>\n",
       "      <td>Clinical Specialist</td>\n",
       "      <td>Health</td>\n",
       "      <td>Mass Customer</td>\n",
       "      <td>N</td>\n",
       "      <td>Yes</td>\n",
       "      <td>10.0</td>\n",
       "      <td>41</td>\n",
       "      <td>4 Shopko Circle</td>\n",
       "      <td>2196</td>\n",
       "      <td>NSW</td>\n",
       "      <td>Australia</td>\n",
       "      <td>5</td>\n",
       "    </tr>\n",
       "    <tr>\n",
       "      <th>4</th>\n",
       "      <td>6862</td>\n",
       "      <td>4</td>\n",
       "      <td>3120</td>\n",
       "      <td>2017-10-05</td>\n",
       "      <td>0.0</td>\n",
       "      <td>Approved</td>\n",
       "      <td>Giant Bicycles</td>\n",
       "      <td>Standard</td>\n",
       "      <td>high</td>\n",
       "      <td>medium</td>\n",
       "      <td>1129.13</td>\n",
       "      <td>677.48</td>\n",
       "      <td>0112-04-17 00:00:00</td>\n",
       "      <td>Lauree</td>\n",
       "      <td>O'Donnell</td>\n",
       "      <td>Female</td>\n",
       "      <td>89</td>\n",
       "      <td>1979-02-04</td>\n",
       "      <td>Clinical Specialist</td>\n",
       "      <td>Health</td>\n",
       "      <td>Mass Customer</td>\n",
       "      <td>N</td>\n",
       "      <td>Yes</td>\n",
       "      <td>10.0</td>\n",
       "      <td>41</td>\n",
       "      <td>4 Shopko Circle</td>\n",
       "      <td>2196</td>\n",
       "      <td>NSW</td>\n",
       "      <td>Australia</td>\n",
       "      <td>5</td>\n",
       "    </tr>\n",
       "  </tbody>\n",
       "</table>\n",
       "</div>"
      ],
      "text/plain": [
       "   transaction_id  product_id  customer_id transaction_date  online_order  \\\n",
       "0               1           2         2950       2017-02-25           0.0   \n",
       "1           11065           1         2950       2017-10-16           0.0   \n",
       "2           18923          62         2950       2017-04-26           0.0   \n",
       "3               2           3         3120       2017-05-21           1.0   \n",
       "4            6862           4         3120       2017-10-05           0.0   \n",
       "\n",
       "  order_status           brand product_line product_class product_size  \\\n",
       "0     Approved           Solex     Standard        medium       medium   \n",
       "1     Approved  Giant Bicycles     Standard        medium       medium   \n",
       "2     Approved           Solex     Standard        medium       medium   \n",
       "3     Approved   Trek Bicycles     Standard        medium        large   \n",
       "4     Approved  Giant Bicycles     Standard          high       medium   \n",
       "\n",
       "   list_price  standard_cost product_first_sold_date first_name  last_name  \\\n",
       "0       71.49          53.62     0113-12-04 00:00:00    Kristos    Anthony   \n",
       "1     1403.50         954.82     0104-02-09 00:00:00    Kristos    Anthony   \n",
       "2      478.16         298.72     0111-11-07 00:00:00    Kristos    Anthony   \n",
       "3     2091.47         388.92     0115-03-05 00:00:00     Lauree  O'Donnell   \n",
       "4     1129.13         677.48     0112-04-17 00:00:00     Lauree  O'Donnell   \n",
       "\n",
       "   gender  past_3_years_bike_related_purchases         DOB  \\\n",
       "0    Male                                   19  1955-01-11   \n",
       "1    Male                                   19  1955-01-11   \n",
       "2    Male                                   19  1955-01-11   \n",
       "3  Female                                   89  1979-02-04   \n",
       "4  Female                                   89  1979-02-04   \n",
       "\n",
       "             job_title job_industry_category wealth_segment  \\\n",
       "0  Software Engineer I    Financial Services  Mass Customer   \n",
       "1  Software Engineer I    Financial Services  Mass Customer   \n",
       "2  Software Engineer I    Financial Services  Mass Customer   \n",
       "3  Clinical Specialist                Health  Mass Customer   \n",
       "4  Clinical Specialist                Health  Mass Customer   \n",
       "\n",
       "  deceased_indicator owns_car  tenure  age            address  postcode state  \\\n",
       "0                  N      Yes    10.0   65  984 Hoepker Court      3064   VIC   \n",
       "1                  N      Yes    10.0   65  984 Hoepker Court      3064   VIC   \n",
       "2                  N      Yes    10.0   65  984 Hoepker Court      3064   VIC   \n",
       "3                  N      Yes    10.0   41    4 Shopko Circle      2196   NSW   \n",
       "4                  N      Yes    10.0   41    4 Shopko Circle      2196   NSW   \n",
       "\n",
       "     country  property_valuation  \n",
       "0  Australia                   6  \n",
       "1  Australia                   6  \n",
       "2  Australia                   6  \n",
       "3  Australia                   5  \n",
       "4  Australia                   5  "
      ]
     },
     "execution_count": 29,
     "metadata": {},
     "output_type": "execute_result"
    }
   ],
   "source": [
    "df.head()"
   ]
  },
  {
   "cell_type": "code",
   "execution_count": 35,
   "metadata": {},
   "outputs": [
    {
     "data": {
      "text/plain": [
       "transaction_id                                   int64\n",
       "product_id                                       int64\n",
       "customer_id                                      int64\n",
       "transaction_date                        datetime64[ns]\n",
       "online_order                                   float64\n",
       "order_status                                    object\n",
       "brand                                           object\n",
       "product_line                                    object\n",
       "product_class                                   object\n",
       "product_size                                    object\n",
       "list_price                                     float64\n",
       "standard_cost                                  float64\n",
       "product_first_sold_date                         object\n",
       "first_name                                      object\n",
       "last_name                                       object\n",
       "gender                                          object\n",
       "past_3_years_bike_related_purchases              int64\n",
       "DOB                                             object\n",
       "job_title                                       object\n",
       "job_industry_category                           object\n",
       "wealth_segment                                  object\n",
       "deceased_indicator                              object\n",
       "owns_car                                        object\n",
       "tenure                                         float64\n",
       "age                                              int64\n",
       "address                                         object\n",
       "postcode                                         int64\n",
       "state                                           object\n",
       "country                                         object\n",
       "property_valuation                               int64\n",
       "profit                                         float64\n",
       "recency                                timedelta64[ns]\n",
       "dtype: object"
      ]
     },
     "execution_count": 35,
     "metadata": {},
     "output_type": "execute_result"
    }
   ],
   "source": [
    "df.dtypes"
   ]
  },
  {
   "cell_type": "markdown",
   "metadata": {},
   "source": [
    "## Recency Frequency and Monetory approach"
   ]
  },
  {
   "cell_type": "code",
   "execution_count": 32,
   "metadata": {},
   "outputs": [],
   "source": [
    "# lets add another column called profit \n",
    "df['profit'] = df.list_price - df.standard_cost"
   ]
  },
  {
   "cell_type": "code",
   "execution_count": 54,
   "metadata": {},
   "outputs": [],
   "source": [
    "# another column for recency \n",
    "df['recency'] = (max(df.transaction_date) - df.transaction_date).dt.days"
   ]
  },
  {
   "cell_type": "code",
   "execution_count": null,
   "metadata": {},
   "outputs": [],
   "source": []
  },
  {
   "cell_type": "code",
   "execution_count": 67,
   "metadata": {},
   "outputs": [],
   "source": [
    "# Now we are going to create a pivot table \n",
    "\n",
    "table  = pd.pivot_table(df, index=['customer_id'], values=['recency', 'product_id', 'profit'],\n",
    "               aggfunc={\"recency\":np.min,\n",
    "                        \"product_id\":len,\n",
    "                        \"profit\":np.sum},\n",
    "               fill_value=0)"
   ]
  },
  {
   "cell_type": "code",
   "execution_count": 164,
   "metadata": {},
   "outputs": [
    {
     "data": {
      "text/html": [
       "<div>\n",
       "<style scoped>\n",
       "    .dataframe tbody tr th:only-of-type {\n",
       "        vertical-align: middle;\n",
       "    }\n",
       "\n",
       "    .dataframe tbody tr th {\n",
       "        vertical-align: top;\n",
       "    }\n",
       "\n",
       "    .dataframe thead th {\n",
       "        text-align: right;\n",
       "    }\n",
       "</style>\n",
       "<table border=\"1\" class=\"dataframe\">\n",
       "  <thead>\n",
       "    <tr style=\"text-align: right;\">\n",
       "      <th></th>\n",
       "      <th>product_id</th>\n",
       "      <th>profit</th>\n",
       "      <th>recency</th>\n",
       "      <th>R_Score</th>\n",
       "      <th>F_Score</th>\n",
       "      <th>M_Score</th>\n",
       "      <th>R_M_F_Value</th>\n",
       "      <th>Customer Title</th>\n",
       "      <th>Customer_Title</th>\n",
       "    </tr>\n",
       "    <tr>\n",
       "      <th>customer_id</th>\n",
       "      <th></th>\n",
       "      <th></th>\n",
       "      <th></th>\n",
       "      <th></th>\n",
       "      <th></th>\n",
       "      <th></th>\n",
       "      <th></th>\n",
       "      <th></th>\n",
       "      <th></th>\n",
       "    </tr>\n",
       "  </thead>\n",
       "  <tbody>\n",
       "    <tr>\n",
       "      <th>1</th>\n",
       "      <td>11</td>\n",
       "      <td>3018.09</td>\n",
       "      <td>7</td>\n",
       "      <td>4</td>\n",
       "      <td>4</td>\n",
       "      <td>3</td>\n",
       "      <td>443</td>\n",
       "      <td>Platinum</td>\n",
       "      <td>Platinum</td>\n",
       "    </tr>\n",
       "    <tr>\n",
       "      <th>2</th>\n",
       "      <td>3</td>\n",
       "      <td>2226.26</td>\n",
       "      <td>128</td>\n",
       "      <td>1</td>\n",
       "      <td>1</td>\n",
       "      <td>2</td>\n",
       "      <td>112</td>\n",
       "      <td>Bronze</td>\n",
       "      <td>Bronze</td>\n",
       "    </tr>\n",
       "    <tr>\n",
       "      <th>9</th>\n",
       "      <td>6</td>\n",
       "      <td>2353.11</td>\n",
       "      <td>78</td>\n",
       "      <td>2</td>\n",
       "      <td>3</td>\n",
       "      <td>2</td>\n",
       "      <td>232</td>\n",
       "      <td>Silver</td>\n",
       "      <td>Silver</td>\n",
       "    </tr>\n",
       "    <tr>\n",
       "      <th>12</th>\n",
       "      <td>7</td>\n",
       "      <td>3540.03</td>\n",
       "      <td>67</td>\n",
       "      <td>2</td>\n",
       "      <td>3</td>\n",
       "      <td>3</td>\n",
       "      <td>233</td>\n",
       "      <td>Silver</td>\n",
       "      <td>Silver</td>\n",
       "    </tr>\n",
       "    <tr>\n",
       "      <th>13</th>\n",
       "      <td>7</td>\n",
       "      <td>4337.38</td>\n",
       "      <td>27</td>\n",
       "      <td>3</td>\n",
       "      <td>3</td>\n",
       "      <td>4</td>\n",
       "      <td>334</td>\n",
       "      <td>Gold</td>\n",
       "      <td>Gold</td>\n",
       "    </tr>\n",
       "  </tbody>\n",
       "</table>\n",
       "</div>"
      ],
      "text/plain": [
       "             product_id   profit  recency  R_Score  F_Score  M_Score  \\\n",
       "customer_id                                                            \n",
       "1                    11  3018.09        7        4        4        3   \n",
       "2                     3  2226.26      128        1        1        2   \n",
       "9                     6  2353.11       78        2        3        2   \n",
       "12                    7  3540.03       67        2        3        3   \n",
       "13                    7  4337.38       27        3        3        4   \n",
       "\n",
       "             R_M_F_Value Customer Title Customer_Title  \n",
       "customer_id                                             \n",
       "1                    443       Platinum       Platinum  \n",
       "2                    112         Bronze         Bronze  \n",
       "9                    232         Silver         Silver  \n",
       "12                   233         Silver         Silver  \n",
       "13                   334           Gold           Gold  "
      ]
     },
     "execution_count": 164,
     "metadata": {},
     "output_type": "execute_result"
    }
   ],
   "source": [
    "table.head()"
   ]
  },
  {
   "cell_type": "code",
   "execution_count": 92,
   "metadata": {},
   "outputs": [
    {
     "data": {
      "text/plain": [
       "count    2323.000000\n",
       "mean       62.516143\n",
       "std        59.958183\n",
       "min         0.000000\n",
       "25%        18.000000\n",
       "50%        44.000000\n",
       "75%        87.000000\n",
       "max       353.000000\n",
       "Name: recency, dtype: float64"
      ]
     },
     "execution_count": 92,
     "metadata": {},
     "output_type": "execute_result"
    }
   ],
   "source": [
    "table.recency.describe()"
   ]
  },
  {
   "cell_type": "code",
   "execution_count": 163,
   "metadata": {},
   "outputs": [],
   "source": [
    "table.to_csv('pivot_table.csv')"
   ]
  },
  {
   "cell_type": "code",
   "execution_count": 73,
   "metadata": {},
   "outputs": [
    {
     "data": {
      "text/plain": [
       "{'whiskers': [<matplotlib.lines.Line2D at 0x7f8a196b5950>,\n",
       "  <matplotlib.lines.Line2D at 0x7f8a196b5e90>],\n",
       " 'caps': [<matplotlib.lines.Line2D at 0x7f8a196a9c90>,\n",
       "  <matplotlib.lines.Line2D at 0x7f8a196bb8d0>],\n",
       " 'boxes': [<matplotlib.lines.Line2D at 0x7f8a196a9c50>],\n",
       " 'medians': [<matplotlib.lines.Line2D at 0x7f8a196bbe10>],\n",
       " 'fliers': [<matplotlib.lines.Line2D at 0x7f8a196b5f10>],\n",
       " 'means': []}"
      ]
     },
     "execution_count": 73,
     "metadata": {},
     "output_type": "execute_result"
    },
    {
     "data": {
      "image/png": "[encoded data removed]",
      "text/plain": [
       "<Figure size 432x288 with 1 Axes>"
      ]
     },
     "metadata": {},
     "output_type": "display_data"
    }
   ],
   "source": [
    "plt.boxplot(table.recency)"
   ]
  },
  {
   "cell_type": "code",
   "execution_count": 72,
   "metadata": {},
   "outputs": [
    {
     "data": {
      "text/plain": [
       "count     2323.000000\n",
       "mean      3075.593603\n",
       "std       1774.153472\n",
       "min         15.080000\n",
       "25%       1797.245000\n",
       "50%       2789.250000\n",
       "75%       4100.225000\n",
       "max      11668.950000\n",
       "Name: profit, dtype: float64"
      ]
     },
     "execution_count": 72,
     "metadata": {},
     "output_type": "execute_result"
    }
   ],
   "source": [
    "table.profit.describe()"
   ]
  },
  {
   "cell_type": "code",
   "execution_count": 74,
   "metadata": {},
   "outputs": [
    {
     "data": {
      "text/plain": [
       "{'whiskers': [<matplotlib.lines.Line2D at 0x7f8a19690e10>,\n",
       "  <matplotlib.lines.Line2D at 0x7f8a196811d0>],\n",
       " 'caps': [<matplotlib.lines.Line2D at 0x7f8a19694890>,\n",
       "  <matplotlib.lines.Line2D at 0x7f8a19694d90>],\n",
       " 'boxes': [<matplotlib.lines.Line2D at 0x7f8a19690150>],\n",
       " 'medians': [<matplotlib.lines.Line2D at 0x7f8a19690ed0>],\n",
       " 'fliers': [<matplotlib.lines.Line2D at 0x7f8a1969a810>],\n",
       " 'means': []}"
      ]
     },
     "execution_count": 74,
     "metadata": {},
     "output_type": "execute_result"
    },
    {
     "data": {
      "image/png": "[encoded data removed]",
      "text/plain": [
       "<Figure size 432x288 with 1 Axes>"
      ]
     },
     "metadata": {},
     "output_type": "display_data"
    }
   ],
   "source": [
    "plt.boxplot(table.profit)"
   ]
  },
  {
   "cell_type": "code",
   "execution_count": 75,
   "metadata": {},
   "outputs": [
    {
     "data": {
      "text/plain": [
       "count    2323.000000\n",
       "mean        5.571675\n",
       "std         2.276232\n",
       "min         1.000000\n",
       "25%         4.000000\n",
       "50%         5.000000\n",
       "75%         7.000000\n",
       "max        14.000000\n",
       "Name: product_id, dtype: float64"
      ]
     },
     "execution_count": 75,
     "metadata": {},
     "output_type": "execute_result"
    }
   ],
   "source": [
    "table.product_id.describe()"
   ]
  },
  {
   "cell_type": "code",
   "execution_count": 76,
   "metadata": {},
   "outputs": [
    {
     "data": {
      "text/plain": [
       "{'whiskers': [<matplotlib.lines.Line2D at 0x7f8a195f7690>,\n",
       "  <matplotlib.lines.Line2D at 0x7f8a195f7c50>],\n",
       " 'caps': [<matplotlib.lines.Line2D at 0x7f8a195ed9d0>,\n",
       "  <matplotlib.lines.Line2D at 0x7f8a195fc690>],\n",
       " 'boxes': [<matplotlib.lines.Line2D at 0x7f8a195ed990>],\n",
       " 'medians': [<matplotlib.lines.Line2D at 0x7f8a195fcbd0>],\n",
       " 'fliers': [<matplotlib.lines.Line2D at 0x7f8a195f7cd0>],\n",
       " 'means': []}"
      ]
     },
     "execution_count": 76,
     "metadata": {},
     "output_type": "execute_result"
    },
    {
     "data": {
      "image/png": "[encoded data removed]",
      "text/plain": [
       "<Figure size 432x288 with 1 Axes>"
      ]
     },
     "metadata": {},
     "output_type": "display_data"
    }
   ],
   "source": [
    "plt.boxplot(table.product_id)"
   ]
  },
  {
   "cell_type": "code",
   "execution_count": null,
   "metadata": {},
   "outputs": [],
   "source": [
    "table['R_Score']"
   ]
  },
  {
   "cell_type": "code",
   "execution_count": 93,
   "metadata": {},
   "outputs": [],
   "source": [
    "def R_score_function(col):\n",
    "    if col > table.recency.describe()['75%']:\n",
    "        return 1\n",
    "    elif col > table.recency.describe()['50%']:\n",
    "        return 2\n",
    "    elif col > table.recency.describe()['25%']:\n",
    "        return 3\n",
    "    else : \n",
    "        return 4\n",
    "    "
   ]
  },
  {
   "cell_type": "code",
   "execution_count": 109,
   "metadata": {},
   "outputs": [],
   "source": [
    "#R_score_function(df.recency)\n",
    "table['R_Score'] = table.recency.apply(R_score_function)"
   ]
  },
  {
   "cell_type": "code",
   "execution_count": 106,
   "metadata": {},
   "outputs": [],
   "source": [
    "def F_score_function(col):\n",
    "    if col > table.product_id.describe()['75%']:\n",
    "        return 4\n",
    "    elif col > table.product_id.describe()['50%']:\n",
    "        return 3\n",
    "    elif col > table.product_id.describe()['25%']:\n",
    "        return 2\n",
    "    else : \n",
    "        return 1"
   ]
  },
  {
   "cell_type": "code",
   "execution_count": 110,
   "metadata": {},
   "outputs": [],
   "source": [
    "table['F_Score'] = table.product_id.apply(F_score_function)"
   ]
  },
  {
   "cell_type": "code",
   "execution_count": 108,
   "metadata": {},
   "outputs": [],
   "source": [
    "def M_score_function(col):\n",
    "    if col > table.profit.describe()['75%']:\n",
    "        return 4\n",
    "    elif col > table.profit.describe()['50%']:\n",
    "        return 3\n",
    "    elif col > table.profit.describe()['25%']:\n",
    "        return 2\n",
    "    else : \n",
    "        return 1"
   ]
  },
  {
   "cell_type": "code",
   "execution_count": 111,
   "metadata": {},
   "outputs": [],
   "source": [
    "table['M_Score']=table.profit.apply(M_score_function)"
   ]
  },
  {
   "cell_type": "code",
   "execution_count": 112,
   "metadata": {},
   "outputs": [
    {
     "data": {
      "text/html": [
       "<div>\n",
       "<style scoped>\n",
       "    .dataframe tbody tr th:only-of-type {\n",
       "        vertical-align: middle;\n",
       "    }\n",
       "\n",
       "    .dataframe tbody tr th {\n",
       "        vertical-align: top;\n",
       "    }\n",
       "\n",
       "    .dataframe thead th {\n",
       "        text-align: right;\n",
       "    }\n",
       "</style>\n",
       "<table border=\"1\" class=\"dataframe\">\n",
       "  <thead>\n",
       "    <tr style=\"text-align: right;\">\n",
       "      <th></th>\n",
       "      <th>product_id</th>\n",
       "      <th>profit</th>\n",
       "      <th>recency</th>\n",
       "      <th>R_Score</th>\n",
       "      <th>F_Score</th>\n",
       "      <th>M_Score</th>\n",
       "    </tr>\n",
       "    <tr>\n",
       "      <th>customer_id</th>\n",
       "      <th></th>\n",
       "      <th></th>\n",
       "      <th></th>\n",
       "      <th></th>\n",
       "      <th></th>\n",
       "      <th></th>\n",
       "    </tr>\n",
       "  </thead>\n",
       "  <tbody>\n",
       "    <tr>\n",
       "      <th>1</th>\n",
       "      <td>11</td>\n",
       "      <td>3018.09</td>\n",
       "      <td>7</td>\n",
       "      <td>4</td>\n",
       "      <td>4</td>\n",
       "      <td>3</td>\n",
       "    </tr>\n",
       "    <tr>\n",
       "      <th>2</th>\n",
       "      <td>3</td>\n",
       "      <td>2226.26</td>\n",
       "      <td>128</td>\n",
       "      <td>1</td>\n",
       "      <td>1</td>\n",
       "      <td>2</td>\n",
       "    </tr>\n",
       "    <tr>\n",
       "      <th>9</th>\n",
       "      <td>6</td>\n",
       "      <td>2353.11</td>\n",
       "      <td>78</td>\n",
       "      <td>2</td>\n",
       "      <td>3</td>\n",
       "      <td>2</td>\n",
       "    </tr>\n",
       "    <tr>\n",
       "      <th>12</th>\n",
       "      <td>7</td>\n",
       "      <td>3540.03</td>\n",
       "      <td>67</td>\n",
       "      <td>2</td>\n",
       "      <td>3</td>\n",
       "      <td>3</td>\n",
       "    </tr>\n",
       "    <tr>\n",
       "      <th>13</th>\n",
       "      <td>7</td>\n",
       "      <td>4337.38</td>\n",
       "      <td>27</td>\n",
       "      <td>3</td>\n",
       "      <td>3</td>\n",
       "      <td>4</td>\n",
       "    </tr>\n",
       "  </tbody>\n",
       "</table>\n",
       "</div>"
      ],
      "text/plain": [
       "             product_id   profit  recency  R_Score  F_Score  M_Score\n",
       "customer_id                                                         \n",
       "1                    11  3018.09        7        4        4        3\n",
       "2                     3  2226.26      128        1        1        2\n",
       "9                     6  2353.11       78        2        3        2\n",
       "12                    7  3540.03       67        2        3        3\n",
       "13                    7  4337.38       27        3        3        4"
      ]
     },
     "execution_count": 112,
     "metadata": {},
     "output_type": "execute_result"
    }
   ],
   "source": [
    "table.head()"
   ]
  },
  {
   "cell_type": "code",
   "execution_count": 113,
   "metadata": {},
   "outputs": [],
   "source": [
    "# RMF value that we are calculating we will put a weight of 100 to reccency + 10 to frequency  + M score\n",
    "\n",
    "table['R_M_F_Value'] = (100*table.R_Score) + (10 * table.F_Score) + table.M_Score"
   ]
  },
  {
   "cell_type": "code",
   "execution_count": 114,
   "metadata": {},
   "outputs": [
    {
     "data": {
      "text/html": [
       "<div>\n",
       "<style scoped>\n",
       "    .dataframe tbody tr th:only-of-type {\n",
       "        vertical-align: middle;\n",
       "    }\n",
       "\n",
       "    .dataframe tbody tr th {\n",
       "        vertical-align: top;\n",
       "    }\n",
       "\n",
       "    .dataframe thead th {\n",
       "        text-align: right;\n",
       "    }\n",
       "</style>\n",
       "<table border=\"1\" class=\"dataframe\">\n",
       "  <thead>\n",
       "    <tr style=\"text-align: right;\">\n",
       "      <th></th>\n",
       "      <th>product_id</th>\n",
       "      <th>profit</th>\n",
       "      <th>recency</th>\n",
       "      <th>R_Score</th>\n",
       "      <th>F_Score</th>\n",
       "      <th>M_Score</th>\n",
       "      <th>R_M_F_Value</th>\n",
       "    </tr>\n",
       "    <tr>\n",
       "      <th>customer_id</th>\n",
       "      <th></th>\n",
       "      <th></th>\n",
       "      <th></th>\n",
       "      <th></th>\n",
       "      <th></th>\n",
       "      <th></th>\n",
       "      <th></th>\n",
       "    </tr>\n",
       "  </thead>\n",
       "  <tbody>\n",
       "    <tr>\n",
       "      <th>1</th>\n",
       "      <td>11</td>\n",
       "      <td>3018.09</td>\n",
       "      <td>7</td>\n",
       "      <td>4</td>\n",
       "      <td>4</td>\n",
       "      <td>3</td>\n",
       "      <td>443</td>\n",
       "    </tr>\n",
       "    <tr>\n",
       "      <th>2</th>\n",
       "      <td>3</td>\n",
       "      <td>2226.26</td>\n",
       "      <td>128</td>\n",
       "      <td>1</td>\n",
       "      <td>1</td>\n",
       "      <td>2</td>\n",
       "      <td>112</td>\n",
       "    </tr>\n",
       "    <tr>\n",
       "      <th>9</th>\n",
       "      <td>6</td>\n",
       "      <td>2353.11</td>\n",
       "      <td>78</td>\n",
       "      <td>2</td>\n",
       "      <td>3</td>\n",
       "      <td>2</td>\n",
       "      <td>232</td>\n",
       "    </tr>\n",
       "    <tr>\n",
       "      <th>12</th>\n",
       "      <td>7</td>\n",
       "      <td>3540.03</td>\n",
       "      <td>67</td>\n",
       "      <td>2</td>\n",
       "      <td>3</td>\n",
       "      <td>3</td>\n",
       "      <td>233</td>\n",
       "    </tr>\n",
       "    <tr>\n",
       "      <th>13</th>\n",
       "      <td>7</td>\n",
       "      <td>4337.38</td>\n",
       "      <td>27</td>\n",
       "      <td>3</td>\n",
       "      <td>3</td>\n",
       "      <td>4</td>\n",
       "      <td>334</td>\n",
       "    </tr>\n",
       "  </tbody>\n",
       "</table>\n",
       "</div>"
      ],
      "text/plain": [
       "             product_id   profit  recency  R_Score  F_Score  M_Score  \\\n",
       "customer_id                                                            \n",
       "1                    11  3018.09        7        4        4        3   \n",
       "2                     3  2226.26      128        1        1        2   \n",
       "9                     6  2353.11       78        2        3        2   \n",
       "12                    7  3540.03       67        2        3        3   \n",
       "13                    7  4337.38       27        3        3        4   \n",
       "\n",
       "             R_M_F_Value  \n",
       "customer_id               \n",
       "1                    443  \n",
       "2                    112  \n",
       "9                    232  \n",
       "12                   233  \n",
       "13                   334  "
      ]
     },
     "execution_count": 114,
     "metadata": {},
     "output_type": "execute_result"
    }
   ],
   "source": [
    "table.head()"
   ]
  },
  {
   "cell_type": "code",
   "execution_count": 115,
   "metadata": {},
   "outputs": [
    {
     "data": {
      "text/plain": [
       "count    2323.000000\n",
       "mean      277.308222\n",
       "std       116.837618\n",
       "min       111.000000\n",
       "25%       211.000000\n",
       "50%       311.000000\n",
       "75%       411.000000\n",
       "max       444.000000\n",
       "Name: R_M_F_Value, dtype: float64"
      ]
     },
     "execution_count": 115,
     "metadata": {},
     "output_type": "execute_result"
    }
   ],
   "source": [
    "table.R_M_F_Value.describe()"
   ]
  },
  {
   "cell_type": "code",
   "execution_count": 118,
   "metadata": {},
   "outputs": [],
   "source": [
    "# calculating customer title\n",
    "\n",
    "def customer_title(col):\n",
    "    if col > table.R_M_F_Value.describe()['75%']:\n",
    "        return 'Platinum'\n",
    "    elif col > table.R_M_F_Value.describe()['50%']:\n",
    "        return 'Gold'\n",
    "    elif col > table.R_M_F_Value.describe()['25%']:\n",
    "        return 'Silver'\n",
    "    else : \n",
    "        return 'Bronze'"
   ]
  },
  {
   "cell_type": "code",
   "execution_count": null,
   "metadata": {},
   "outputs": [],
   "source": []
  },
  {
   "cell_type": "code",
   "execution_count": 126,
   "metadata": {},
   "outputs": [],
   "source": [
    "table['Customer_Title'] = table.R_M_F_Value.apply(customer_title)"
   ]
  },
  {
   "cell_type": "code",
   "execution_count": 127,
   "metadata": {},
   "outputs": [
    {
     "data": {
      "text/html": [
       "<div>\n",
       "<style scoped>\n",
       "    .dataframe tbody tr th:only-of-type {\n",
       "        vertical-align: middle;\n",
       "    }\n",
       "\n",
       "    .dataframe tbody tr th {\n",
       "        vertical-align: top;\n",
       "    }\n",
       "\n",
       "    .dataframe thead th {\n",
       "        text-align: right;\n",
       "    }\n",
       "</style>\n",
       "<table border=\"1\" class=\"dataframe\">\n",
       "  <thead>\n",
       "    <tr style=\"text-align: right;\">\n",
       "      <th></th>\n",
       "      <th>product_id</th>\n",
       "      <th>profit</th>\n",
       "      <th>recency</th>\n",
       "      <th>R_Score</th>\n",
       "      <th>F_Score</th>\n",
       "      <th>M_Score</th>\n",
       "      <th>R_M_F_Value</th>\n",
       "      <th>Customer Title</th>\n",
       "      <th>Customer_Title</th>\n",
       "    </tr>\n",
       "    <tr>\n",
       "      <th>customer_id</th>\n",
       "      <th></th>\n",
       "      <th></th>\n",
       "      <th></th>\n",
       "      <th></th>\n",
       "      <th></th>\n",
       "      <th></th>\n",
       "      <th></th>\n",
       "      <th></th>\n",
       "      <th></th>\n",
       "    </tr>\n",
       "  </thead>\n",
       "  <tbody>\n",
       "    <tr>\n",
       "      <th>1</th>\n",
       "      <td>11</td>\n",
       "      <td>3018.09</td>\n",
       "      <td>7</td>\n",
       "      <td>4</td>\n",
       "      <td>4</td>\n",
       "      <td>3</td>\n",
       "      <td>443</td>\n",
       "      <td>Platinum</td>\n",
       "      <td>Platinum</td>\n",
       "    </tr>\n",
       "    <tr>\n",
       "      <th>2</th>\n",
       "      <td>3</td>\n",
       "      <td>2226.26</td>\n",
       "      <td>128</td>\n",
       "      <td>1</td>\n",
       "      <td>1</td>\n",
       "      <td>2</td>\n",
       "      <td>112</td>\n",
       "      <td>Bronze</td>\n",
       "      <td>Bronze</td>\n",
       "    </tr>\n",
       "    <tr>\n",
       "      <th>9</th>\n",
       "      <td>6</td>\n",
       "      <td>2353.11</td>\n",
       "      <td>78</td>\n",
       "      <td>2</td>\n",
       "      <td>3</td>\n",
       "      <td>2</td>\n",
       "      <td>232</td>\n",
       "      <td>Silver</td>\n",
       "      <td>Silver</td>\n",
       "    </tr>\n",
       "    <tr>\n",
       "      <th>12</th>\n",
       "      <td>7</td>\n",
       "      <td>3540.03</td>\n",
       "      <td>67</td>\n",
       "      <td>2</td>\n",
       "      <td>3</td>\n",
       "      <td>3</td>\n",
       "      <td>233</td>\n",
       "      <td>Silver</td>\n",
       "      <td>Silver</td>\n",
       "    </tr>\n",
       "    <tr>\n",
       "      <th>13</th>\n",
       "      <td>7</td>\n",
       "      <td>4337.38</td>\n",
       "      <td>27</td>\n",
       "      <td>3</td>\n",
       "      <td>3</td>\n",
       "      <td>4</td>\n",
       "      <td>334</td>\n",
       "      <td>Gold</td>\n",
       "      <td>Gold</td>\n",
       "    </tr>\n",
       "  </tbody>\n",
       "</table>\n",
       "</div>"
      ],
      "text/plain": [
       "             product_id   profit  recency  R_Score  F_Score  M_Score  \\\n",
       "customer_id                                                            \n",
       "1                    11  3018.09        7        4        4        3   \n",
       "2                     3  2226.26      128        1        1        2   \n",
       "9                     6  2353.11       78        2        3        2   \n",
       "12                    7  3540.03       67        2        3        3   \n",
       "13                    7  4337.38       27        3        3        4   \n",
       "\n",
       "             R_M_F_Value Customer Title Customer_Title  \n",
       "customer_id                                             \n",
       "1                    443       Platinum       Platinum  \n",
       "2                    112         Bronze         Bronze  \n",
       "9                    232         Silver         Silver  \n",
       "12                   233         Silver         Silver  \n",
       "13                   334           Gold           Gold  "
      ]
     },
     "execution_count": 127,
     "metadata": {},
     "output_type": "execute_result"
    }
   ],
   "source": [
    "table.head()"
   ]
  },
  {
   "cell_type": "code",
   "execution_count": 136,
   "metadata": {},
   "outputs": [
    {
     "data": {
      "text/html": [
       "<div>\n",
       "<style scoped>\n",
       "    .dataframe tbody tr th:only-of-type {\n",
       "        vertical-align: middle;\n",
       "    }\n",
       "\n",
       "    .dataframe tbody tr th {\n",
       "        vertical-align: top;\n",
       "    }\n",
       "\n",
       "    .dataframe thead th {\n",
       "        text-align: right;\n",
       "    }\n",
       "</style>\n",
       "<table border=\"1\" class=\"dataframe\">\n",
       "  <thead>\n",
       "    <tr style=\"text-align: right;\">\n",
       "      <th></th>\n",
       "      <th>R_M_F_Value</th>\n",
       "    </tr>\n",
       "    <tr>\n",
       "      <th>Customer_Title</th>\n",
       "      <th></th>\n",
       "    </tr>\n",
       "  </thead>\n",
       "  <tbody>\n",
       "    <tr>\n",
       "      <th>Bronze</th>\n",
       "      <td>89981</td>\n",
       "    </tr>\n",
       "    <tr>\n",
       "      <th>Gold</th>\n",
       "      <td>189937</td>\n",
       "    </tr>\n",
       "    <tr>\n",
       "      <th>Platinum</th>\n",
       "      <td>232176</td>\n",
       "    </tr>\n",
       "    <tr>\n",
       "      <th>Silver</th>\n",
       "      <td>132093</td>\n",
       "    </tr>\n",
       "  </tbody>\n",
       "</table>\n",
       "</div>"
      ],
      "text/plain": [
       "                R_M_F_Value\n",
       "Customer_Title             \n",
       "Bronze                89981\n",
       "Gold                 189937\n",
       "Platinum             232176\n",
       "Silver               132093"
      ]
     },
     "execution_count": 136,
     "metadata": {},
     "output_type": "execute_result"
    }
   ],
   "source": [
    "temp = pd.pivot_table(table, index=['Customer_Title'], values=['R_M_F_Value'],\n",
    "               aggfunc={\"R_M_F_Value\":np.sum},\n",
    "               fill_value=0)\n",
    "temp"
   ]
  },
  {
   "cell_type": "code",
   "execution_count": 147,
   "metadata": {},
   "outputs": [
    {
     "data": {
      "text/plain": [
       "Text(0.5, 1.0, 'R M F Analysis')"
      ]
     },
     "execution_count": 147,
     "metadata": {},
     "output_type": "execute_result"
    },
    {
     "data": {
      "image/png": "[encoded data removed]",
      "text/plain": [
       "<Figure size 864x432 with 1 Axes>"
      ]
     },
     "metadata": {},
     "output_type": "display_data"
    }
   ],
   "source": [
    "# Creating RMF Graph\n",
    "plt.figure(figsize=(12,6))\n",
    "sns.set_style(\"whitegrid\")\n",
    "sns.barplot(data = table,\n",
    "            y = temp.index,\n",
    "            x = temp.R_M_F_Value,)\n",
    "\n",
    "plt.xlabel(\"R M F Value\")\n",
    "plt.ylabel(\"Customer Title\")\n",
    "plt.title(\"R M F Analysis\")"
   ]
  },
  {
   "cell_type": "code",
   "execution_count": null,
   "metadata": {},
   "outputs": [],
   "source": [
    "# Wealth Segment by Age \n",
    "\n",
    "table  = pd.pivot_table(df, index=['customer_id'], values=['recency', 'product_id', 'profit'],\n",
    "               aggfunc={\"recency\":np.min,\n",
    "                        \"product_id\":len,\n",
    "                        \"profit\":np.sum},\n",
    "               fill_value=0)"
   ]
  },
  {
   "cell_type": "code",
   "execution_count": 166,
   "metadata": {},
   "outputs": [
    {
     "data": {
      "text/plain": [
       "count    12943.000000\n",
       "mean        42.218033\n",
       "std         12.381993\n",
       "min         18.000000\n",
       "25%         33.000000\n",
       "50%         42.000000\n",
       "75%         51.000000\n",
       "max         66.000000\n",
       "Name: age, dtype: float64"
      ]
     },
     "execution_count": 166,
     "metadata": {},
     "output_type": "execute_result"
    }
   ],
   "source": [
    "df.age.describe()\n"
   ]
  },
  {
   "cell_type": "code",
   "execution_count": 176,
   "metadata": {},
   "outputs": [
    {
     "data": {
      "text/plain": [
       "numpy.int64"
      ]
     },
     "execution_count": 176,
     "metadata": {},
     "output_type": "execute_result"
    }
   ],
   "source": [
    "type(df.age[0])"
   ]
  },
  {
   "cell_type": "code",
   "execution_count": 182,
   "metadata": {},
   "outputs": [],
   "source": [
    "#Young 18 - 25 , Adult 25 to 40, Senior Adult 40 to 60 , Old 60 +\n",
    "\n",
    "def age_classifier(col):\n",
    "    if col < 25:\n",
    "        return 'Young'\n",
    "    elif col < 40 :\n",
    "        return 'Adult'\n",
    "    elif col <60 :\n",
    "        return 'Senior Adult'\n",
    "    else :\n",
    "        return 'Old'"
   ]
  },
  {
   "cell_type": "code",
   "execution_count": 187,
   "metadata": {},
   "outputs": [],
   "source": [
    "df['age_classified'] = df.age.apply(age_classifier)"
   ]
  },
  {
   "cell_type": "code",
   "execution_count": null,
   "metadata": {},
   "outputs": [],
   "source": []
  },
  {
   "cell_type": "code",
   "execution_count": 195,
   "metadata": {},
   "outputs": [
    {
     "data": {
      "text/html": [
       "<div>\n",
       "<style scoped>\n",
       "    .dataframe tbody tr th:only-of-type {\n",
       "        vertical-align: middle;\n",
       "    }\n",
       "\n",
       "    .dataframe tbody tr th {\n",
       "        vertical-align: top;\n",
       "    }\n",
       "\n",
       "    .dataframe thead th {\n",
       "        text-align: right;\n",
       "    }\n",
       "</style>\n",
       "<table border=\"1\" class=\"dataframe\">\n",
       "  <thead>\n",
       "    <tr style=\"text-align: right;\">\n",
       "      <th></th>\n",
       "      <th></th>\n",
       "      <th>customer_id</th>\n",
       "    </tr>\n",
       "    <tr>\n",
       "      <th>wealth_segment</th>\n",
       "      <th>age_classified</th>\n",
       "      <th></th>\n",
       "    </tr>\n",
       "  </thead>\n",
       "  <tbody>\n",
       "    <tr>\n",
       "      <th rowspan=\"4\" valign=\"top\">Affluent Customer</th>\n",
       "      <th>Adult</th>\n",
       "      <td>942</td>\n",
       "    </tr>\n",
       "    <tr>\n",
       "      <th>Old</th>\n",
       "      <td>364</td>\n",
       "    </tr>\n",
       "    <tr>\n",
       "      <th>Senior Adult</th>\n",
       "      <td>1583</td>\n",
       "    </tr>\n",
       "    <tr>\n",
       "      <th>Young</th>\n",
       "      <td>367</td>\n",
       "    </tr>\n",
       "    <tr>\n",
       "      <th rowspan=\"4\" valign=\"top\">High Net Worth</th>\n",
       "      <th>Adult</th>\n",
       "      <td>960</td>\n",
       "    </tr>\n",
       "    <tr>\n",
       "      <th>Old</th>\n",
       "      <td>353</td>\n",
       "    </tr>\n",
       "    <tr>\n",
       "      <th>Senior Adult</th>\n",
       "      <td>1713</td>\n",
       "    </tr>\n",
       "    <tr>\n",
       "      <th>Young</th>\n",
       "      <td>284</td>\n",
       "    </tr>\n",
       "    <tr>\n",
       "      <th rowspan=\"4\" valign=\"top\">Mass Customer</th>\n",
       "      <th>Adult</th>\n",
       "      <td>1639</td>\n",
       "    </tr>\n",
       "    <tr>\n",
       "      <th>Old</th>\n",
       "      <td>701</td>\n",
       "    </tr>\n",
       "    <tr>\n",
       "      <th>Senior Adult</th>\n",
       "      <td>3382</td>\n",
       "    </tr>\n",
       "    <tr>\n",
       "      <th>Young</th>\n",
       "      <td>655</td>\n",
       "    </tr>\n",
       "  </tbody>\n",
       "</table>\n",
       "</div>"
      ],
      "text/plain": [
       "                                  customer_id\n",
       "wealth_segment    age_classified             \n",
       "Affluent Customer Adult                   942\n",
       "                  Old                     364\n",
       "                  Senior Adult           1583\n",
       "                  Young                   367\n",
       "High Net Worth    Adult                   960\n",
       "                  Old                     353\n",
       "                  Senior Adult           1713\n",
       "                  Young                   284\n",
       "Mass Customer     Adult                  1639\n",
       "                  Old                     701\n",
       "                  Senior Adult           3382\n",
       "                  Young                   655"
      ]
     },
     "execution_count": 195,
     "metadata": {},
     "output_type": "execute_result"
    }
   ],
   "source": [
    "pd.pivot_table(df, index=['wealth_segment','age_classified'],values=['customer_id'] ,\n",
    "              aggfunc={\"customer_id\":len})"
   ]
  },
  {
   "cell_type": "code",
   "execution_count": 209,
   "metadata": {
    "scrolled": true
   },
   "outputs": [
    {
     "data": {
      "text/plain": [
       "Text(0, 0.5, 'Count')"
      ]
     },
     "execution_count": 209,
     "metadata": {},
     "output_type": "execute_result"
    },
    {
     "data": {
      "image/png": "[encoded data removed]",
      "text/plain": [
       "<Figure size 432x288 with 1 Axes>"
      ]
     },
     "metadata": {},
     "output_type": "display_data"
    }
   ],
   "source": [
    "df.groupby(['wealth_segment','age_classified']).count()['customer_id'].unstack().plot.bar(stacked=True)\n",
    "\n",
    "plt.title(\"Wealth Segment By Age\")\n",
    "plt.xticks(rotation = 0)\n",
    "plt.ylabel(\"Count\")"
   ]
  },
  {
   "cell_type": "code",
   "execution_count": null,
   "metadata": {},
   "outputs": [],
   "source": [
    "df.groupby([\"STG\",\"GRP\"]).mean().unstack().plot.bar()"
   ]
  },
  {
   "cell_type": "code",
   "execution_count": 200,
   "metadata": {},
   "outputs": [],
   "source": [
    "sns.set()\n",
    "df.set_index('App').T.plot(kind='bar', stacked=True)"
   ]
  },
  {
   "cell_type": "code",
   "execution_count": 218,
   "metadata": {},
   "outputs": [
    {
     "data": {
      "text/plain": [
       "<matplotlib.axes._subplots.AxesSubplot at 0x7f8a1231c890>"
      ]
     },
     "execution_count": 218,
     "metadata": {},
     "output_type": "execute_result"
    },
    {
     "data": {
      "image/png": "[encoded data removed]",
      "text/plain": [
       "<Figure size 432x288 with 1 Axes>"
      ]
     },
     "metadata": {},
     "output_type": "display_data"
    }
   ],
   "source": [
    "sns.set_style(\"whitegrid\")\n",
    "sns.distplot(df.age, bins=10, color='b')"
   ]
  },
  {
   "cell_type": "code",
   "execution_count": 220,
   "metadata": {},
   "outputs": [
    {
     "data": {
      "text/plain": [
       "transaction_id                                  int64\n",
       "product_id                                      int64\n",
       "customer_id                                     int64\n",
       "transaction_date                       datetime64[ns]\n",
       "online_order                                  float64\n",
       "order_status                                   object\n",
       "brand                                          object\n",
       "product_line                                   object\n",
       "product_class                                  object\n",
       "product_size                                   object\n",
       "list_price                                    float64\n",
       "standard_cost                                 float64\n",
       "product_first_sold_date                        object\n",
       "first_name                                     object\n",
       "last_name                                      object\n",
       "gender                                         object\n",
       "past_3_years_bike_related_purchases             int64\n",
       "DOB                                            object\n",
       "job_title                                      object\n",
       "job_industry_category                          object\n",
       "wealth_segment                                 object\n",
       "deceased_indicator                             object\n",
       "owns_car                                       object\n",
       "tenure                                        float64\n",
       "age                                             int64\n",
       "address                                        object\n",
       "postcode                                        int64\n",
       "state                                          object\n",
       "country                                        object\n",
       "property_valuation                              int64\n",
       "profit                                        float64\n",
       "recency                                         int64\n",
       "age_classified                                 object\n",
       "dtype: object"
      ]
     },
     "execution_count": 220,
     "metadata": {},
     "output_type": "execute_result"
    }
   ],
   "source": [
    "df.dtypes"
   ]
  },
  {
   "cell_type": "code",
   "execution_count": 221,
   "metadata": {},
   "outputs": [
    {
     "data": {
      "text/plain": [
       "0        Financial Services\n",
       "1        Financial Services\n",
       "2        Financial Services\n",
       "3                    Health\n",
       "4                    Health\n",
       "                ...        \n",
       "12938    Financial Services\n",
       "12939                Health\n",
       "12940                Health\n",
       "12941                Health\n",
       "12942                Health\n",
       "Name: job_industry_category, Length: 12943, dtype: object"
      ]
     },
     "execution_count": 221,
     "metadata": {},
     "output_type": "execute_result"
    }
   ],
   "source": [
    "df.job_industry_category"
   ]
  },
  {
   "cell_type": "code",
   "execution_count": 255,
   "metadata": {},
   "outputs": [
    {
     "data": {
      "text/html": [
       "<div>\n",
       "<style scoped>\n",
       "    .dataframe tbody tr th:only-of-type {\n",
       "        vertical-align: middle;\n",
       "    }\n",
       "\n",
       "    .dataframe tbody tr th {\n",
       "        vertical-align: top;\n",
       "    }\n",
       "\n",
       "    .dataframe thead th {\n",
       "        text-align: right;\n",
       "    }\n",
       "</style>\n",
       "<table border=\"1\" class=\"dataframe\">\n",
       "  <thead>\n",
       "    <tr style=\"text-align: right;\">\n",
       "      <th></th>\n",
       "      <th>customer_id</th>\n",
       "    </tr>\n",
       "    <tr>\n",
       "      <th>job_industry_category</th>\n",
       "      <th></th>\n",
       "    </tr>\n",
       "  </thead>\n",
       "  <tbody>\n",
       "    <tr>\n",
       "      <th>Argiculture</th>\n",
       "      <td>454</td>\n",
       "    </tr>\n",
       "    <tr>\n",
       "      <th>Entertainment</th>\n",
       "      <td>546</td>\n",
       "    </tr>\n",
       "    <tr>\n",
       "      <th>Financial Services</th>\n",
       "      <td>3072</td>\n",
       "    </tr>\n",
       "    <tr>\n",
       "      <th>Health</th>\n",
       "      <td>2517</td>\n",
       "    </tr>\n",
       "    <tr>\n",
       "      <th>IT</th>\n",
       "      <td>560</td>\n",
       "    </tr>\n",
       "    <tr>\n",
       "      <th>Manufacturing</th>\n",
       "      <td>3158</td>\n",
       "    </tr>\n",
       "    <tr>\n",
       "      <th>Property</th>\n",
       "      <td>1059</td>\n",
       "    </tr>\n",
       "    <tr>\n",
       "      <th>Retail</th>\n",
       "      <td>1318</td>\n",
       "    </tr>\n",
       "    <tr>\n",
       "      <th>Telecommunications</th>\n",
       "      <td>259</td>\n",
       "    </tr>\n",
       "  </tbody>\n",
       "</table>\n",
       "</div>"
      ],
      "text/plain": [
       "                       customer_id\n",
       "job_industry_category             \n",
       "Argiculture                    454\n",
       "Entertainment                  546\n",
       "Financial Services            3072\n",
       "Health                        2517\n",
       "IT                             560\n",
       "Manufacturing                 3158\n",
       "Property                      1059\n",
       "Retail                        1318\n",
       "Telecommunications             259"
      ]
     },
     "execution_count": 255,
     "metadata": {},
     "output_type": "execute_result"
    }
   ],
   "source": [
    "temp = pd.pivot_table(df, index=['job_industry_category'],values=['customer_id'] ,\n",
    "              aggfunc={\"customer_id\":len})\n",
    "\n",
    "temp\n"
   ]
  },
  {
   "cell_type": "code",
   "execution_count": 256,
   "metadata": {},
   "outputs": [
    {
     "data": {
      "image/png": "[encoded data removed]",
      "text/plain": [
       "<Figure size 576x432 with 1 Axes>"
      ]
     },
     "metadata": {},
     "output_type": "display_data"
    }
   ],
   "source": [
    "sns.set_style(\"white\")\n",
    "fig = plt.figure(figsize=(8,6))\n",
    "ax1 = fig.add_subplot(1,1,1)\n",
    "\n",
    "ax1.pie(temp.customer_id,labels=temp.index, autopct='%1.1f%%')\n",
    "\n",
    "plt.show()"
   ]
  },
  {
   "cell_type": "code",
   "execution_count": 234,
   "metadata": {},
   "outputs": [
    {
     "data": {
      "text/plain": [
       "transaction_id                                  int64\n",
       "product_id                                      int64\n",
       "customer_id                                     int64\n",
       "transaction_date                       datetime64[ns]\n",
       "online_order                                  float64\n",
       "order_status                                   object\n",
       "brand                                          object\n",
       "product_line                                   object\n",
       "product_class                                  object\n",
       "product_size                                   object\n",
       "list_price                                    float64\n",
       "standard_cost                                 float64\n",
       "product_first_sold_date                        object\n",
       "first_name                                     object\n",
       "last_name                                      object\n",
       "gender                                         object\n",
       "past_3_years_bike_related_purchases             int64\n",
       "DOB                                            object\n",
       "job_title                                      object\n",
       "job_industry_category                          object\n",
       "wealth_segment                                 object\n",
       "deceased_indicator                             object\n",
       "owns_car                                       object\n",
       "tenure                                        float64\n",
       "age                                             int64\n",
       "address                                        object\n",
       "postcode                                        int64\n",
       "state                                          object\n",
       "country                                        object\n",
       "property_valuation                              int64\n",
       "profit                                        float64\n",
       "recency                                         int64\n",
       "age_classified                                 object\n",
       "dtype: object"
      ]
     },
     "execution_count": 234,
     "metadata": {},
     "output_type": "execute_result"
    }
   ],
   "source": [
    "df.dtypes"
   ]
  },
  {
   "cell_type": "code",
   "execution_count": 240,
   "metadata": {},
   "outputs": [
    {
     "data": {
      "text/plain": [
       "age_classified  past_3_years_bike_related_purchases\n",
       "Adult           0                                       57\n",
       "                1                                        9\n",
       "                2                                       32\n",
       "                3                                       19\n",
       "                4                                       40\n",
       "                5                                       35\n",
       "                6                                       35\n",
       "                7                                       35\n",
       "                8                                       24\n",
       "                9                                       16\n",
       "                10                                      24\n",
       "                11                                      39\n",
       "                12                                      27\n",
       "                13                                      33\n",
       "                14                                      32\n",
       "                15                                      21\n",
       "                16                                      30\n",
       "                17                                      44\n",
       "                18                                      33\n",
       "                19                                      59\n",
       "                20                                      38\n",
       "                21                                      27\n",
       "                22                                      39\n",
       "                23                                      31\n",
       "                24                                      25\n",
       "                25                                      58\n",
       "                26                                      30\n",
       "                27                                      27\n",
       "                28                                      18\n",
       "                29                                      25\n",
       "                30                                      58\n",
       "                31                                      38\n",
       "                32                                      33\n",
       "                33                                      22\n",
       "                34                                      47\n",
       "                35                                      44\n",
       "                36                                      25\n",
       "                37                                      53\n",
       "                38                                      56\n",
       "                39                                      33\n",
       "                40                                      34\n",
       "                41                                      29\n",
       "                42                                      35\n",
       "                43                                      27\n",
       "                44                                      24\n",
       "                45                                      25\n",
       "                46                                      31\n",
       "                47                                      22\n",
       "                48                                      60\n",
       "                49                                      34\n",
       "                50                                      22\n",
       "                51                                      90\n",
       "                52                                      23\n",
       "                53                                      32\n",
       "                54                                      56\n",
       "                55                                      21\n",
       "                56                                      26\n",
       "                57                                      26\n",
       "                58                                      49\n",
       "                59                                      42\n",
       "                60                                      13\n",
       "                61                                      20\n",
       "                62                                      58\n",
       "                63                                      57\n",
       "                64                                      29\n",
       "                65                                      31\n",
       "                66                                      22\n",
       "                67                                      37\n",
       "                68                                      32\n",
       "                69                                      36\n",
       "                70                                      22\n",
       "                71                                       9\n",
       "                72                                      30\n",
       "                73                                      60\n",
       "                74                                      32\n",
       "                75                                      33\n",
       "                76                                      50\n",
       "                77                                      57\n",
       "                78                                      35\n",
       "                79                                      35\n",
       "                80                                      67\n",
       "                81                                      29\n",
       "                82                                      31\n",
       "                83                                      25\n",
       "                84                                      35\n",
       "                85                                      46\n",
       "                86                                      12\n",
       "                87                                      37\n",
       "                88                                      18\n",
       "                89                                      43\n",
       "                90                                      59\n",
       "                91                                      38\n",
       "                92                                      31\n",
       "                93                                      45\n",
       "                94                                      33\n",
       "                95                                      31\n",
       "                96                                      34\n",
       "                97                                      55\n",
       "                98                                      42\n",
       "                99                                      53\n",
       "Old             0                                       22\n",
       "                1                                        9\n",
       "                2                                       37\n",
       "                3                                        8\n",
       "                4                                       13\n",
       "                5                                        8\n",
       "                6                                       14\n",
       "                7                                       41\n",
       "                8                                       17\n",
       "                9                                       24\n",
       "                10                                       2\n",
       "                11                                       4\n",
       "                12                                      11\n",
       "                13                                      24\n",
       "                14                                      23\n",
       "                15                                      16\n",
       "                16                                       4\n",
       "                17                                      26\n",
       "                18                                      27\n",
       "                19                                      22\n",
       "                20                                      25\n",
       "                22                                      23\n",
       "                23                                      20\n",
       "                24                                       4\n",
       "                25                                      13\n",
       "                26                                      22\n",
       "                27                                       8\n",
       "                28                                      11\n",
       "                29                                       8\n",
       "                30                                      29\n",
       "                32                                       7\n",
       "                33                                      27\n",
       "                34                                      11\n",
       "                35                                       9\n",
       "                36                                       5\n",
       "                37                                      16\n",
       "                38                                       7\n",
       "                39                                      14\n",
       "                40                                      29\n",
       "                41                                      13\n",
       "                42                                      11\n",
       "                44                                      23\n",
       "                45                                       9\n",
       "                47                                      24\n",
       "                48                                      20\n",
       "                49                                       4\n",
       "                51                                      29\n",
       "                52                                      17\n",
       "                53                                       6\n",
       "                54                                      15\n",
       "                55                                      16\n",
       "                56                                      12\n",
       "                57                                       6\n",
       "                59                                       9\n",
       "                60                                      31\n",
       "                61                                       9\n",
       "                62                                       6\n",
       "                63                                       7\n",
       "                64                                      15\n",
       "                65                                      19\n",
       "                66                                       8\n",
       "                67                                      27\n",
       "                68                                      12\n",
       "                69                                      31\n",
       "                70                                      18\n",
       "                71                                       3\n",
       "                72                                      12\n",
       "                73                                      10\n",
       "                74                                      17\n",
       "                75                                      15\n",
       "                76                                      21\n",
       "                77                                       6\n",
       "                78                                      25\n",
       "                79                                      18\n",
       "                80                                      12\n",
       "                81                                      23\n",
       "                82                                      33\n",
       "                83                                      22\n",
       "                86                                      12\n",
       "                87                                       9\n",
       "                88                                       9\n",
       "                89                                      16\n",
       "                91                                       6\n",
       "                93                                      32\n",
       "                94                                      12\n",
       "                95                                      15\n",
       "                96                                      18\n",
       "                97                                       3\n",
       "                98                                       6\n",
       "                99                                      26\n",
       "Senior Adult    0                                       36\n",
       "                1                                       60\n",
       "                2                                      116\n",
       "                3                                       57\n",
       "                4                                       75\n",
       "                5                                       52\n",
       "                6                                       66\n",
       "                7                                       65\n",
       "                8                                       14\n",
       "                9                                       81\n",
       "                10                                      80\n",
       "                11                                      68\n",
       "                12                                      72\n",
       "                13                                      89\n",
       "                14                                      80\n",
       "                15                                      53\n",
       "                16                                     111\n",
       "                17                                      27\n",
       "                18                                      48\n",
       "                19                                      60\n",
       "                20                                      69\n",
       "                21                                      64\n",
       "                22                                      50\n",
       "                23                                     102\n",
       "                24                                      55\n",
       "                25                                      60\n",
       "                26                                      73\n",
       "                27                                      96\n",
       "                28                                      70\n",
       "                29                                      78\n",
       "                30                                      68\n",
       "                31                                      65\n",
       "                32                                      50\n",
       "                33                                      77\n",
       "                34                                      57\n",
       "                35                                      99\n",
       "                36                                     128\n",
       "                37                                      59\n",
       "                38                                      96\n",
       "                39                                      69\n",
       "                40                                      77\n",
       "                41                                      74\n",
       "                42                                      67\n",
       "                43                                      71\n",
       "                44                                      64\n",
       "                45                                      77\n",
       "                46                                      88\n",
       "                47                                      84\n",
       "                48                                      89\n",
       "                49                                      57\n",
       "                50                                      65\n",
       "                51                                      39\n",
       "                52                                      70\n",
       "                53                                     117\n",
       "                54                                      50\n",
       "                55                                      77\n",
       "                56                                      86\n",
       "                57                                      62\n",
       "                58                                      27\n",
       "                59                                      68\n",
       "                60                                      67\n",
       "                61                                      59\n",
       "                62                                      68\n",
       "                63                                      66\n",
       "                64                                      76\n",
       "                65                                      44\n",
       "                66                                      67\n",
       "                67                                      75\n",
       "                68                                      42\n",
       "                69                                      70\n",
       "                70                                      73\n",
       "                71                                     108\n",
       "                72                                      78\n",
       "                73                                      91\n",
       "                74                                      42\n",
       "                75                                      43\n",
       "                76                                      44\n",
       "                77                                      55\n",
       "                78                                      52\n",
       "                79                                      57\n",
       "                80                                      52\n",
       "                81                                      55\n",
       "                82                                      36\n",
       "                83                                      76\n",
       "                84                                      39\n",
       "                85                                      38\n",
       "                86                                      38\n",
       "                87                                      49\n",
       "                88                                      70\n",
       "                89                                     100\n",
       "                90                                      28\n",
       "                91                                      51\n",
       "                92                                      20\n",
       "                93                                      65\n",
       "                94                                      96\n",
       "                95                                      45\n",
       "                96                                     104\n",
       "                97                                      85\n",
       "                98                                     102\n",
       "                99                                      48\n",
       "Young           0                                       20\n",
       "                1                                        3\n",
       "                2                                        5\n",
       "                3                                        3\n",
       "                4                                        4\n",
       "                5                                        7\n",
       "                6                                       21\n",
       "                7                                        6\n",
       "                8                                       13\n",
       "                10                                      21\n",
       "                11                                      24\n",
       "                12                                      19\n",
       "                13                                      15\n",
       "                14                                       7\n",
       "                15                                       2\n",
       "                16                                      19\n",
       "                17                                       9\n",
       "                19                                      17\n",
       "                20                                      13\n",
       "                21                                       2\n",
       "                22                                      24\n",
       "                23                                      11\n",
       "                24                                       8\n",
       "                25                                      23\n",
       "                26                                      14\n",
       "                27                                      13\n",
       "                28                                      17\n",
       "                29                                      35\n",
       "                30                                       9\n",
       "                32                                       6\n",
       "                33                                      38\n",
       "                34                                      20\n",
       "                35                                      27\n",
       "                36                                       3\n",
       "                37                                      16\n",
       "                38                                       9\n",
       "                41                                      10\n",
       "                42                                      18\n",
       "                43                                       6\n",
       "                44                                      26\n",
       "                45                                       9\n",
       "                46                                      18\n",
       "                47                                      11\n",
       "                48                                      25\n",
       "                49                                      24\n",
       "                50                                       5\n",
       "                51                                      15\n",
       "                52                                      12\n",
       "                55                                      12\n",
       "                57                                      12\n",
       "                58                                       8\n",
       "                59                                      30\n",
       "                60                                       4\n",
       "                61                                       7\n",
       "                62                                      10\n",
       "                63                                      21\n",
       "                64                                       6\n",
       "                65                                      11\n",
       "                66                                      21\n",
       "                67                                      12\n",
       "                68                                      19\n",
       "                69                                      16\n",
       "                70                                      25\n",
       "                71                                      18\n",
       "                72                                      12\n",
       "                73                                      27\n",
       "                74                                      28\n",
       "                75                                      18\n",
       "                76                                      12\n",
       "                77                                       9\n",
       "                79                                       1\n",
       "                80                                      41\n",
       "                81                                       8\n",
       "                82                                       5\n",
       "                83                                      17\n",
       "                84                                      18\n",
       "                86                                      11\n",
       "                87                                       6\n",
       "                88                                       2\n",
       "                89                                      16\n",
       "                90                                      10\n",
       "                91                                      16\n",
       "                92                                      15\n",
       "                93                                      29\n",
       "                94                                      14\n",
       "                95                                      14\n",
       "                96                                       9\n",
       "                97                                      28\n",
       "                98                                       5\n",
       "                99                                      21\n",
       "Name: customer_id, dtype: int64"
      ]
     },
     "execution_count": 240,
     "metadata": {},
     "output_type": "execute_result"
    }
   ],
   "source": [
    "sns.set_style(\"whitegrid\")\n",
    "\n",
    "df.groupby(['age_classified','past_3_years_bike_related_purchases']).count()['customer_id']\n"
   ]
  },
  {
   "cell_type": "code",
   "execution_count": 245,
   "metadata": {},
   "outputs": [
    {
     "data": {
      "text/html": [
       "<div>\n",
       "<style scoped>\n",
       "    .dataframe tbody tr th:only-of-type {\n",
       "        vertical-align: middle;\n",
       "    }\n",
       "\n",
       "    .dataframe tbody tr th {\n",
       "        vertical-align: top;\n",
       "    }\n",
       "\n",
       "    .dataframe thead th {\n",
       "        text-align: right;\n",
       "    }\n",
       "</style>\n",
       "<table border=\"1\" class=\"dataframe\">\n",
       "  <thead>\n",
       "    <tr style=\"text-align: right;\">\n",
       "      <th></th>\n",
       "      <th>past_3_years_bike_related_purchases</th>\n",
       "    </tr>\n",
       "    <tr>\n",
       "      <th>age_classified</th>\n",
       "      <th></th>\n",
       "    </tr>\n",
       "  </thead>\n",
       "  <tbody>\n",
       "    <tr>\n",
       "      <th>Adult</th>\n",
       "      <td>3541</td>\n",
       "    </tr>\n",
       "    <tr>\n",
       "      <th>Old</th>\n",
       "      <td>1418</td>\n",
       "    </tr>\n",
       "    <tr>\n",
       "      <th>Senior Adult</th>\n",
       "      <td>6678</td>\n",
       "    </tr>\n",
       "    <tr>\n",
       "      <th>Young</th>\n",
       "      <td>1306</td>\n",
       "    </tr>\n",
       "  </tbody>\n",
       "</table>\n",
       "</div>"
      ],
      "text/plain": [
       "                past_3_years_bike_related_purchases\n",
       "age_classified                                     \n",
       "Adult                                          3541\n",
       "Old                                            1418\n",
       "Senior Adult                                   6678\n",
       "Young                                          1306"
      ]
     },
     "execution_count": 245,
     "metadata": {},
     "output_type": "execute_result"
    }
   ],
   "source": [
    "temp = pd.pivot_table(df,\n",
    "                      index=['age_classified'],\n",
    "                      values=['past_3_years_bike_related_purchases'] ,\n",
    "                      aggfunc={\"past_3_years_bike_related_purchases\":len})\n",
    "\n",
    "temp"
   ]
  },
  {
   "cell_type": "code",
   "execution_count": 252,
   "metadata": {},
   "outputs": [
    {
     "name": "stderr",
     "output_type": "stream",
     "text": [
      "/home/jasp/anaconda3/lib/python3.7/site-packages/ipykernel_launcher.py:5: MatplotlibDeprecationWarning: Non-1D inputs to pie() are currently squeeze()d, but this behavior is deprecated since 3.1 and will be removed in 3.3; pass a 1D array instead.\n",
      "  \"\"\"\n"
     ]
    },
    {
     "data": {
      "image/png": "[encoded data removed]",
      "text/plain": [
       "<Figure size 576x432 with 1 Axes>"
      ]
     },
     "metadata": {},
     "output_type": "display_data"
    }
   ],
   "source": [
    "sns.set_style(\"white\")\n",
    "fig = plt.figure(figsize=(8,6))\n",
    "ax1 = fig.add_subplot(1,1,1)\n",
    "\n",
    "ax1.pie(temp,labels=temp.index, autopct='%1.1f%%')\n",
    "\n",
    "plt.show()"
   ]
  },
  {
   "cell_type": "code",
   "execution_count": 257,
   "metadata": {},
   "outputs": [
    {
     "data": {
      "text/plain": [
       "transaction_id                                  int64\n",
       "product_id                                      int64\n",
       "customer_id                                     int64\n",
       "transaction_date                       datetime64[ns]\n",
       "online_order                                  float64\n",
       "order_status                                   object\n",
       "brand                                          object\n",
       "product_line                                   object\n",
       "product_class                                  object\n",
       "product_size                                   object\n",
       "list_price                                    float64\n",
       "standard_cost                                 float64\n",
       "product_first_sold_date                        object\n",
       "first_name                                     object\n",
       "last_name                                      object\n",
       "gender                                         object\n",
       "past_3_years_bike_related_purchases             int64\n",
       "DOB                                            object\n",
       "job_title                                      object\n",
       "job_industry_category                          object\n",
       "wealth_segment                                 object\n",
       "deceased_indicator                             object\n",
       "owns_car                                       object\n",
       "tenure                                        float64\n",
       "age                                             int64\n",
       "address                                        object\n",
       "postcode                                        int64\n",
       "state                                          object\n",
       "country                                        object\n",
       "property_valuation                              int64\n",
       "profit                                        float64\n",
       "recency                                         int64\n",
       "age_classified                                 object\n",
       "dtype: object"
      ]
     },
     "execution_count": 257,
     "metadata": {},
     "output_type": "execute_result"
    }
   ],
   "source": [
    "df.dtypes"
   ]
  },
  {
   "cell_type": "code",
   "execution_count": null,
   "metadata": {},
   "outputs": [],
   "source": []
  }
 ],
 "metadata": {
  "kernelspec": {
   "display_name": "Python 3",
   "language": "python",
   "name": "python3"
  },
  "language_info": {
   "codemirror_mode": {
    "name": "ipython",
    "version": 3
   },
   "file_extension": ".py",
   "mimetype": "text/x-python",
   "name": "python",
   "nbconvert_exporter": "python",
   "pygments_lexer": "ipython3",
   "version": "3.7.5"
  }
 },
 "nbformat": 4,
 "nbformat_minor": 2
}
